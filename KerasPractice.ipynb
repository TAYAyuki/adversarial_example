{
  "nbformat": 4,
  "nbformat_minor": 0,
  "metadata": {
    "colab": {
      "name": "KerasPractice.ipynb",
      "version": "0.3.2",
      "provenance": [],
      "collapsed_sections": [
        "AC4cMM4F00xP",
        "okJZwhY2yRr3",
        "Njbvh3UxLWjO",
        "rvUFgLHse9Rn",
        "P9HjMHPEf5lw",
        "oO60WcIapKgl",
        "g06QKrOjIOzE"
      ],
      "toc_visible": true,
      "include_colab_link": true
    },
    "kernelspec": {
      "name": "python3",
      "display_name": "Python 3"
    },
    "accelerator": "GPU"
  },
  "cells": [
    {
      "cell_type": "markdown",
      "metadata": {
        "id": "view-in-github",
        "colab_type": "text"
      },
      "source": [
        "<a href=\"https://colab.research.google.com/github/TAYAyuki/adversarial_example/blob/master/KerasPractice.ipynb\" target=\"_parent\"><img src=\"https://colab.research.google.com/assets/colab-badge.svg\" alt=\"Open In Colab\"/></a>"
      ]
    },
    {
      "cell_type": "code",
      "metadata": {
        "id": "y6F3bLOEJ862",
        "colab_type": "code",
        "colab": {}
      },
      "source": [
        "import tensorflow as tf\n",
        "import numpy as np\n",
        "import matplotlib.pyplot as plt\n",
        "\n",
        "from tensorflow.keras.models import Model, Sequential\n",
        "from tensorflow.keras.layers import Dense, Conv2D, Conv1D, Reshape, \\\n",
        "BatchNormalization, UpSampling2D, Activation, Input, LeakyReLU, Dropout, \\\n",
        "Flatten, MaxPooling2D, ReLU\n",
        "from tensorflow.keras.optimizers import Adam, Adamax, Adadelta, SGD\n",
        "from tensorflow.keras.losses import categorical_crossentropy\n",
        "from tensorflow.keras import backend"
      ],
      "execution_count": 0,
      "outputs": []
    },
    {
      "cell_type": "markdown",
      "metadata": {
        "id": "VyGSwQ43ypuz",
        "colab_type": "text"
      },
      "source": [
        "# Adversarial \n",
        "## Gradient based\n",
        "### Fast Gradient Sign Method (FGSM)\n",
        "### $x^{2}$ = x + $\\varepsilon$sign($\\nabla_{x}$L(x,y))"
      ]
    },
    {
      "cell_type": "code",
      "metadata": {
        "id": "G-zoy_e-SkIV",
        "colab_type": "code",
        "outputId": "a32a357a-1a88-4d53-fb51-20919da90334",
        "colab": {
          "base_uri": "https://localhost:8080/",
          "height": 713
        }
      },
      "source": [
        "(x_train, y_train), (x_test, y_test) = tf.keras.datasets.mnist.load_data()\n",
        "y_train = tf.keras.utils.to_categorical(y_train, 10)\n",
        "y_test = tf.keras.utils.to_categorical(y_test, 10)\n",
        "print(x_train.shape)\n",
        "x_train = x_train.reshape(60000,28*28)\n",
        "x_test = x_test.reshape(10000,28*28)\n",
        "x_train = x_train/255.\n",
        "x_test = x_test/255.\n",
        "print(x_train.shape)\n",
        "\n",
        "\n",
        "# CNN version\n",
        "x_train = x_train.reshape(60000, 28, 28, 1)\n",
        "x_test = x_test.reshape(10000, 28, 28, 1)\n",
        "a = Input(shape=(28,28,1))\n",
        "x = Conv2D(32, kernel_size=3, activation='relu', padding='same')(a)\n",
        "x = Conv2D(64, kernel_size=3, activation='relu', padding='same')(x)\n",
        "x = Conv2D(128, kernel_size=3, activation='relu', padding='same')(x)\n",
        "x = Flatten()(x)\n",
        "x = Dense(10, activation='softmax')(x)\n",
        "\n",
        "# full connection version\n",
        "# a= Input(shape=(28*28,))\n",
        "# x = Dense(units=512, activation='relu', input_shape=(28*28,))(a)\n",
        "# x = Dense(units=128, activation='relu')(x)\n",
        "# x = Dense(units=64, activation='relu')(x)\n",
        "# x = Dense(units=10, activation='softmax')(x)\n",
        "\n",
        "model = Model(inputs=a, outputs=x)\n",
        "\n",
        "model.summary()\n",
        "\n",
        "model.compile(optimizer=Adadelta(), loss='categorical_crossentropy', metrics=['accuracy'])\n",
        "model.fit(x_train, y_train, batch_size=64, epochs=5, validation_data=(x_test, y_test))\n",
        "\n",
        "# sneaky_generate(target label, target digit)\n",
        "# def adversarial(model, n, steps, eta):\n",
        "#   \"\"\"\n",
        "#   model: MNIST model\n",
        "#   n:     integer. goal label (just an int, the function transfroms it into a one-hot vector)\n",
        "#   steps: integer. number of steps for gradient descent\n",
        "#   eata:  integer. step size for gradient descent\n",
        "#   \"\"\"\n",
        "#   # Set the goal output\n",
        "#   goal = tf.keras.utils.to_categorical(n, 10)\n",
        "  \n",
        "#   # Create a random image to initialize gradient descent with\n",
        "#   x = np.random.normal(.5, .3, (1,28,28,1))\n",
        "  \n",
        "#   # Gradient descent on the input\n",
        "#   for i in range(steps):\n",
        "#     # Calculate the derivative\n",
        "#     d = input_derivative(model, x, goal)\n",
        "#     # The Gradient update on x\n",
        "#     x -= eta*d[0]\n",
        "#     print(\"step:{} done...\".format(i+1))\n",
        "    \n",
        "#   return x\n",
        "\n",
        "\n",
        "# def generate(n):\n",
        "#   \"\"\"\n",
        "#   n: integer\n",
        "#       goal label ( not hot vector)\n",
        "#   \"\"\"\n",
        "#   a = adversarial(model, n, 100, 1)\n",
        "#   x = np.round(model.predict(a), 2)\n",
        "  \n",
        "#   plt.imshow(a.reshape(28,28), cmap='gray')"
      ],
      "execution_count": 0,
      "outputs": [
        {
          "output_type": "stream",
          "text": [
            "(60000, 28, 28)\n",
            "(60000, 784)\n",
            "WARNING:tensorflow:From /usr/local/lib/python3.6/dist-packages/tensorflow/python/ops/resource_variable_ops.py:435: colocate_with (from tensorflow.python.framework.ops) is deprecated and will be removed in a future version.\n",
            "Instructions for updating:\n",
            "Colocations handled automatically by placer.\n",
            "_________________________________________________________________\n",
            "Layer (type)                 Output Shape              Param #   \n",
            "=================================================================\n",
            "input_1 (InputLayer)         (None, 28, 28, 1)         0         \n",
            "_________________________________________________________________\n",
            "conv2d (Conv2D)              (None, 28, 28, 32)        320       \n",
            "_________________________________________________________________\n",
            "conv2d_1 (Conv2D)            (None, 28, 28, 64)        18496     \n",
            "_________________________________________________________________\n",
            "conv2d_2 (Conv2D)            (None, 28, 28, 128)       73856     \n",
            "_________________________________________________________________\n",
            "flatten (Flatten)            (None, 100352)            0         \n",
            "_________________________________________________________________\n",
            "dense (Dense)                (None, 10)                1003530   \n",
            "=================================================================\n",
            "Total params: 1,096,202\n",
            "Trainable params: 1,096,202\n",
            "Non-trainable params: 0\n",
            "_________________________________________________________________\n",
            "Train on 60000 samples, validate on 10000 samples\n",
            "WARNING:tensorflow:From /usr/local/lib/python3.6/dist-packages/tensorflow/python/ops/math_ops.py:3066: to_int32 (from tensorflow.python.ops.math_ops) is deprecated and will be removed in a future version.\n",
            "Instructions for updating:\n",
            "Use tf.cast instead.\n",
            "Epoch 1/5\n",
            "60000/60000 [==============================] - 14s 237us/sample - loss: 0.1303 - acc: 0.9598 - val_loss: 0.0557 - val_acc: 0.9809\n",
            "Epoch 2/5\n",
            "60000/60000 [==============================] - 12s 196us/sample - loss: 0.0447 - acc: 0.9866 - val_loss: 0.0346 - val_acc: 0.9873\n",
            "Epoch 3/5\n",
            "60000/60000 [==============================] - 12s 197us/sample - loss: 0.0299 - acc: 0.9910 - val_loss: 0.0345 - val_acc: 0.9886\n",
            "Epoch 4/5\n",
            "60000/60000 [==============================] - 12s 196us/sample - loss: 0.0215 - acc: 0.9934 - val_loss: 0.0315 - val_acc: 0.9886\n",
            "Epoch 5/5\n",
            "60000/60000 [==============================] - 12s 196us/sample - loss: 0.0154 - acc: 0.9956 - val_loss: 0.0326 - val_acc: 0.9898\n"
          ],
          "name": "stdout"
        },
        {
          "output_type": "execute_result",
          "data": {
            "text/plain": [
              "<tensorflow.python.keras.callbacks.History at 0x7f00cb7ea9b0>"
            ]
          },
          "metadata": {
            "tags": []
          },
          "execution_count": 3
        }
      ]
    },
    {
      "cell_type": "code",
      "metadata": {
        "colab_type": "code",
        "id": "cepZCFI1mlHg",
        "colab": {}
      },
      "source": [
        "def input_derivative(model, x, goal):\n",
        "  \"\"\" Calculate derivatives wrt the intputs \"\"\"\n",
        "  y_true = Input(shape=(10,))\n",
        "  ce = categorical_crossentropy(y_true, model.output)\n",
        "  grad_ce = backend.gradients(ce, model.inputs)\n",
        "  # Create a function to be able to run this computation graph\n",
        "  func = backend.function(model.inputs+[y_true], grad_ce)\n",
        "  output = func([x, goal])\n",
        "  return output\n",
        "  \n",
        "  \n",
        "def sneaky_adversarial(model, n, x_target, steps, eta, lam=0.05):\n",
        "  \"\"\"\n",
        "  model:    model object\n",
        "  n:        integer\n",
        "          our toal label\n",
        "  x_target: numpy vector\n",
        "          our goal image for the adversarial example\n",
        "  steps:    integer\n",
        "          number of steps for gradient descent\n",
        "  lam:      float\n",
        "          lambda, our regularization parameter. Default is 0.5\n",
        "  \"\"\"\n",
        "  \n",
        "  # Set the goal output\n",
        "  goal = tf.keras.utils.to_categorical(n, 10)\n",
        "  \n",
        "  # Create a random noise\n",
        "  x = np.random.normal(0.5, 0.3, (1,784))\n",
        "  x = x.reshape(1,28,28,1)  # inputs for CNN\n",
        "#   x = x.reshape(1,28*28)\n",
        "  \n",
        "  # Gradient descent on the input\n",
        "  for i in range(steps):\n",
        "    # Calculate the derivative\n",
        "    d = input_derivative(model, x, goal)\n",
        "    \n",
        "    # difference between x and x_target\n",
        "#     diff = x - x_target\n",
        "#     noise = d[0]\n",
        "#     print(\"diff: {}\\nnoise: {}\".format(np.mean(diff), np.mean(noise)))\n",
        "#     print(\"---------------------------------\")\n",
        "    \n",
        "    # The grads update on x, with an added penalty to the cost function\n",
        "    x -= eta * (d[0] + lam * (x - x_target))\n",
        "    \n",
        "    # print predction in current step\n",
        "#     currentPred = np.round(model.predict(x), 2)\n",
        "#     print('Network Prediction: ' + str(currentPred) + '\\n')\n",
        "    \n",
        "    if (i+1) % 10 == 0:\n",
        "      plt.imshow(x.reshape(28,28), cmap='gray')\n",
        "      plt.show()\n",
        "      print('steps:{} done...'.format(i+1))\n",
        "    \n",
        "  return x\n",
        "\n",
        "\n",
        "def sneaky_generate(n, m, steps):\n",
        "  \"\"\"\n",
        "  n:    int 0-9, the target number to match\n",
        "  m:    index of example image to use (from the test set)\n",
        "  \"\"\"\n",
        "  \n",
        "  # Find random instance of m in test set\n",
        "  idx = np.random.randint(0,10000)\n",
        "  while np.where(y_test[idx] == 1)[0][0] != m:\n",
        "    idx += 1\n",
        "    \n",
        "  \n",
        "  x_target = x_test[idx].reshape((28,28,1))\n",
        "  # Hardcode the parameters for the wrapper function\n",
        "  a = sneaky_adversarial(model, n, x_target, steps, 1)\n",
        "  x = np.round(model.predict(a), 2)\n",
        "  \n",
        "  print('\\nWhat we want our adversarial example to look like: ')\n",
        "  plt.imshow(x_test[idx].reshape((28,28)), cmap='gray')\n",
        "  plt.show()\n",
        "\n",
        "  print('\\n')\n",
        "\n",
        "  print('Adversarial Example: ')\n",
        "\n",
        "  plt.imshow(a.reshape(28,28), cmap='gray')\n",
        "  plt.show()\n",
        "\n",
        "  print('Network Prediction: ' + str(np.argmax(x)) + '\\n')\n",
        "\n",
        "  print('Network Output: \\n' + str(x) + '\\n')\n",
        "\n",
        "  return a"
      ],
      "execution_count": 0,
      "outputs": []
    },
    {
      "cell_type": "code",
      "metadata": {
        "id": "TDMRTRD6Z9rR",
        "colab_type": "code",
        "outputId": "23cdcc35-a512-40ff-d607-303dcb9f2658",
        "colab": {
          "base_uri": "https://localhost:8080/",
          "height": 3387
        }
      },
      "source": [
        "    adv_ex = sneaky_generate(4, 3, 100)"
      ],
      "execution_count": 0,
      "outputs": [
        {
          "output_type": "display_data",
          "data": {
            "image/png": "[encoded data removed]",
            "text/plain": [
              "<Figure size 432x288 with 1 Axes>"
            ]
          },
          "metadata": {
            "tags": []
          }
        },
        {
          "output_type": "stream",
          "text": [
            "steps:10 done...\n"
          ],
          "name": "stdout"
        },
        {
          "output_type": "display_data",
          "data": {
            "image/png": "[encoded data removed]",
            "text/plain": [
              "<Figure size 432x288 with 1 Axes>"
            ]
          },
          "metadata": {
            "tags": []
          }
        },
        {
          "output_type": "stream",
          "text": [
            "steps:20 done...\n"
          ],
          "name": "stdout"
        },
        {
          "output_type": "display_data",
          "data": {
            "image/png": "[encoded data removed]",
            "text/plain": [
              "<Figure size 432x288 with 1 Axes>"
            ]
          },
          "metadata": {
            "tags": []
          }
        },
        {
          "output_type": "stream",
          "text": [
            "steps:30 done...\n"
          ],
          "name": "stdout"
        },
        {
          "output_type": "display_data",
          "data": {
            "image/png": "[encoded data removed]",
            "text/plain": [
              "<Figure size 432x288 with 1 Axes>"
            ]
          },
          "metadata": {
            "tags": []
          }
        },
        {
          "output_type": "stream",
          "text": [
            "steps:40 done...\n"
          ],
          "name": "stdout"
        },
        {
          "output_type": "display_data",
          "data": {
            "image/png": "[encoded data removed]",
            "text/plain": [
              "<Figure size 432x288 with 1 Axes>"
            ]
          },
          "metadata": {
            "tags": []
          }
        },
        {
          "output_type": "stream",
          "text": [
            "steps:50 done...\n"
          ],
          "name": "stdout"
        },
        {
          "output_type": "display_data",
          "data": {
            "image/png": "[encoded data removed]",
            "text/plain": [
              "<Figure size 432x288 with 1 Axes>"
            ]
          },
          "metadata": {
            "tags": []
          }
        },
        {
          "output_type": "stream",
          "text": [
            "steps:60 done...\n"
          ],
          "name": "stdout"
        },
        {
          "output_type": "display_data",
          "data": {
            "image/png": "[encoded data removed]",
            "text/plain": [
              "<Figure size 432x288 with 1 Axes>"
            ]
          },
          "metadata": {
            "tags": []
          }
        },
        {
          "output_type": "stream",
          "text": [
            "steps:70 done...\n"
          ],
          "name": "stdout"
        },
        {
          "output_type": "display_data",
          "data": {
            "image/png": "[encoded data removed]",
            "text/plain": [
              "<Figure size 432x288 with 1 Axes>"
            ]
          },
          "metadata": {
            "tags": []
          }
        },
        {
          "output_type": "stream",
          "text": [
            "steps:80 done...\n"
          ],
          "name": "stdout"
        },
        {
          "output_type": "display_data",
          "data": {
            "image/png": "[encoded data removed]",
            "text/plain": [
              "<Figure size 432x288 with 1 Axes>"
            ]
          },
          "metadata": {
            "tags": []
          }
        },
        {
          "output_type": "stream",
          "text": [
            "steps:90 done...\n"
          ],
          "name": "stdout"
        },
        {
          "output_type": "display_data",
          "data": {
            "image/png": "[encoded data removed]",
            "text/plain": [
              "<Figure size 432x288 with 1 Axes>"
            ]
          },
          "metadata": {
            "tags": []
          }
        },
        {
          "output_type": "stream",
          "text": [
            "steps:100 done...\n",
            "\n",
            "What we want our adversarial example to look like: \n"
          ],
          "name": "stdout"
        },
        {
          "output_type": "display_data",
          "data": {
            "image/png": "[encoded data removed]",
            "text/plain": [
              "<Figure size 432x288 with 1 Axes>"
            ]
          },
          "metadata": {
            "tags": []
          }
        },
        {
          "output_type": "stream",
          "text": [
            "\n",
            "\n",
            "Adversarial Example: \n"
          ],
          "name": "stdout"
        },
        {
          "output_type": "display_data",
          "data": {
            "image/png": "[encoded data removed]",
            "text/plain": [
              "<Figure size 432x288 with 1 Axes>"
            ]
          },
          "metadata": {
            "tags": []
          }
        },
        {
          "output_type": "stream",
          "text": [
            "Network Prediction: 4\n",
            "\n",
            "Network Output: \n",
            "[[0.   0.   0.   0.   0.99 0.   0.   0.   0.   0.  ]]\n",
            "\n"
          ],
          "name": "stdout"
        }
      ]
    },
    {
      "cell_type": "markdown",
      "metadata": {
        "id": "AC4cMM4F00xP",
        "colab_type": "text"
      },
      "source": [
        "### Projected Gradient Descent\n",
        "### (Iterative FGSM)\n",
        "$x_{0}^{*}$ = x,\n",
        "$x_{t+1}^{*}$ = clip(x + $\\alpha$sign($\\nabla_{x}$L($x_{t}^{*}$,y)))"
      ]
    },
    {
      "cell_type": "code",
      "metadata": {
        "id": "IeYunzzgKD-A",
        "colab_type": "code",
        "outputId": "0cc27566-1121-43ce-bb33-0bb66b81fdaf",
        "colab": {
          "base_uri": "https://localhost:8080/",
          "height": 263
        }
      },
      "source": [
        "(x_train, y_train), (x_test, y_test) = tf.keras.datasets.mnist.load_data()\n",
        "y_train = tf.keras.utils.to_categorical(y_train, 10)\n",
        "y_test = tf.keras.utils.to_categorical(y_test, 10)\n",
        "print(x_train.shape)\n",
        "x_train = x_train.reshape(60000,28*28)\n",
        "x_test = x_test.reshape(10000,28*28)\n",
        "x_train = x_train/255.\n",
        "x_test = x_test/255.\n",
        "print(x_train.shape)\n",
        "\n",
        "a= Input(shape=(28*28,))\n",
        "x = Dense(units=512, activation='relu', input_shape=(28*28,))(a)\n",
        "x = Dense(units=128, activation='relu')(x)\n",
        "x = Dense(units=64, activation='relu')(x)\n",
        "x = Dense(units=10, activation='softmax')(x)\n",
        "model = Model(inputs=a, outputs=x)\n",
        "model.compile(optimizer=Adadelta(), loss='categorical_crossentropy', metrics=['accuracy'])\n",
        "model.fit(x_train, y_train, batch_size=64, epochs=5, validation_data=(x_test, y_test))"
      ],
      "execution_count": 0,
      "outputs": [
        {
          "output_type": "stream",
          "text": [
            "(60000, 28, 28)\n",
            "(60000, 784)\n",
            "Train on 60000 samples, validate on 10000 samples\n",
            "Epoch 1/5\n",
            "60000/60000 [==============================] - 5s 88us/sample - loss: 0.2294 - acc: 0.9303 - val_loss: 0.1077 - val_acc: 0.9674\n",
            "Epoch 2/5\n",
            "60000/60000 [==============================] - 5s 88us/sample - loss: 0.0849 - acc: 0.9733 - val_loss: 0.1165 - val_acc: 0.9639\n",
            "Epoch 3/5\n",
            "60000/60000 [==============================] - 5s 90us/sample - loss: 0.0542 - acc: 0.9829 - val_loss: 0.0680 - val_acc: 0.9797\n",
            "Epoch 4/5\n",
            "60000/60000 [==============================] - 5s 89us/sample - loss: 0.0376 - acc: 0.9882 - val_loss: 0.0684 - val_acc: 0.9809\n",
            "Epoch 5/5\n",
            "60000/60000 [==============================] - 5s 90us/sample - loss: 0.0265 - acc: 0.9916 - val_loss: 0.0634 - val_acc: 0.9836\n"
          ],
          "name": "stdout"
        },
        {
          "output_type": "execute_result",
          "data": {
            "text/plain": [
              "<tensorflow.python.keras.callbacks.History at 0x7ff6ca4fb9b0>"
            ]
          },
          "metadata": {
            "tags": []
          },
          "execution_count": 47
        }
      ]
    },
    {
      "cell_type": "markdown",
      "metadata": {
        "id": "okJZwhY2yRr3",
        "colab_type": "text"
      },
      "source": [
        "# GAN \n",
        "## mnist"
      ]
    },
    {
      "cell_type": "code",
      "metadata": {
        "id": "bDv08fWpAN76",
        "colab_type": "code",
        "colab": {}
      },
      "source": [
        "class MnistGAN:\n",
        "  \n",
        "  def __init__(self):\n",
        "    self.z_dim = 100\n",
        "    self.shape = (28,28,1)\n",
        "    optimizer = Adam(lr=1e-4, beta_1=0.5)\n",
        "    \n",
        "    # build discriminator\n",
        "    self.discriminator = self.build_discriminator()\n",
        "    self.discriminator.compile(loss='binary_crossentropy', \\\n",
        "                               optimizer=optimizer, \\\n",
        "                               metrics=['acc'])\n",
        "    \n",
        "    # buid generator \n",
        "    self.generator = self.build_generator()   \n",
        "    z = Input(shape=(self.z_dim,))\n",
        "    img = self.generator(z)\n",
        "    \n",
        "    # fix the parameters of discriminator\n",
        "    self.discriminator.trainable = False\n",
        "    valid = self.discriminator(img)\n",
        "    \n",
        "    # for training generator\n",
        "    self.combined = Model(z, valid)\n",
        "    self.combined.compile(loss='binary_crossentropy', optimizer=optimizer)\n",
        "  \n",
        "  \n",
        "  def build_generator(self):\n",
        "    noise_shape = (self.z_dim,)    \n",
        "    model = Sequential()\n",
        "    \n",
        "    #-----------------------#\n",
        "    model.add(Dense(7*7*128, activation='relu', input_shape=noise_shape))\n",
        "    model.add(Reshape((7, 7, 128)))\n",
        "    model.add(BatchNormalization(momentum=0.8))\n",
        "    model.add(UpSampling2D())                   # (14,14,128)\n",
        "    #-----------------------#\n",
        "    model.add(Conv2D(8, kernel_size=3, padding='same'))\n",
        "    model.add(Activation('relu'))\n",
        "    model.add(BatchNormalization(momentum=0.8))\n",
        "    model.add(UpSampling2D())                   # (28,28,128)\n",
        "    #-----------------------#\n",
        "    model.add(Conv2D(4, kernel_size=3, padding='same'))\n",
        "    model.add(Activation('relu'))\n",
        "    model.add(BatchNormalization(momentum=0.8)) # (28,28,64) \n",
        "    #-----------------------#\n",
        "    model.add(Conv2D(1, kernel_size=3, padding='same'))\n",
        "    model.add(Activation('tanh'))\n",
        "    \n",
        "    model.summary()\n",
        "    \n",
        "    noise = Input(shape=noise_shape)\n",
        "    \n",
        "    img = model(noise)\n",
        "    \n",
        "    return Model(inputs=noise, outputs=img)\n",
        "  \n",
        "  def build_discriminator(self):\n",
        "    img_shape = self.shape\n",
        "    \n",
        "    model = Sequential()\n",
        "    \n",
        "    model.add(Conv2D(32, kernel_size=3, strides=2, input_shape=img_shape, padding='same'))\n",
        "    model.add(LeakyReLU(alpha=0.2))\n",
        "    model.add(Dropout(0.25))\n",
        "    #--------------------------------\n",
        "    model.add(Conv2D(64, kernel_size=3, strides=2, padding='same'))\n",
        "    model.add(LeakyReLU(alpha=0.2))\n",
        "    model.add(Dropout(0.25))\n",
        "#     model.add(BatchNormalization(momentum=0.8))\n",
        "#     #--------------------------------\n",
        "#     model.add(Conv2D(128, kernel_size=3, strides=2, padding='same'))\n",
        "#     model.add(LeakyReLU(alpha=0.2))\n",
        "#     model.add(Dropout(0.25))\n",
        "#     model.add(BatchNormalization(momentum=0.8))\n",
        "#     #--------------------------------\n",
        "#     model.add(Conv2D(256, kernel_size=3, strides=2, padding='same'))\n",
        "#     model.add(LeakyReLU(alpha=0.2))\n",
        "#     model.add(Dropout(0.25))\n",
        "   \n",
        "    model.add(Flatten())\n",
        "    model.add(Dense(1, activation='sigmoid'))\n",
        "    model.summary()\n",
        "    \n",
        "    img = Input(shape=img_shape)\n",
        "    validity = model(img)\n",
        "    \n",
        "    return Model(inputs=img, outputs=validity)\n",
        "  \n",
        "  \n",
        "  def build_combined(self):\n",
        "    self.discriminator.trainable = False\n",
        "    model = Sequential([self.generator, self.discriminator])\n",
        "    \n",
        "    return model\n",
        "\n",
        "  \n",
        "  def train(self, iterations, batch_size=128, save_interval=50, model_interval=1000, check_noise=None, r=5, c=5): \n",
        "   #iterations:3000 \n",
        "    x_train, y_train, x_test, y_test = self.load_imgs()\n",
        "    #x_train:(60000,28,28,1)  y_train:(60000,10)\n",
        "    print(x_train.shape)\n",
        "    print(y_train.shape)\n",
        "    half_batch = int(batch_size / 2)\n",
        "    \n",
        "    x_train = (x_train.astype(np.float32) - 127.5) / 127.5\n",
        "    \n",
        "    for iteration in range(iterations):\n",
        "      \"\"\"\n",
        "      Training Discriminator\n",
        "      \"\"\"\n",
        "      idx = np.random.randint(0, x_train.shape[0], half_batch)\n",
        "      \n",
        "      imgs = x_train[idx]\n",
        "      \n",
        "      noise = np.random.uniform(-1, 1, (half_batch, self.z_dim))\n",
        "      gen_imgs = self.generator.predict(noise)\n",
        "      \n",
        "      \n",
        "      d_loss_real = self.discriminator.train_on_batch(imgs, \\\n",
        "                                                      np.ones((half_batch, 1)))\n",
        "      d_loss_fake = self.discriminator.train_on_batch(gen_imgs, \\\n",
        "                                                      np.zeros((half_batch, 1)))\n",
        "    \n",
        "      d_loss = 0.5 * np.add(d_loss_real, d_loss_fake)\n",
        "      \n",
        "      \"\"\"\n",
        "      Training Generator\n",
        "      \"\"\"\n",
        "      noise = np.random.uniform(-1, 1, (batch_size, self.z_dim))\n",
        "      \n",
        "      g_loss = self.combined.train_on_batch(noise, np.ones((batch_size, 1)))\n",
        "      \n",
        "      print(\"%d [D loss: %f, acc.: %.2f%%] [G loss: %f]\" % (iteration, d_loss[0], 100 * d_loss[1], g_loss))\n",
        "\n",
        "      for i in range(9):\n",
        "        plotImg = gen_imgs[i].reshape(28,28)\n",
        "        plt.subplot(3,3,i+1)\n",
        "        plt.imshow(plotImg, cmap='gray')\n",
        "      plt.show()\n",
        "      \n",
        "    \n",
        "  def load_imgs(self):\n",
        "    (x_train, y_train), (x_test, y_test) = tf.keras.datasets.mnist.load_data()\n",
        "    y_train = tf.keras.utils.to_categorical(y_train, 10) #train correct answer data -> one hot vector\n",
        "    print(y_train.shape)\n",
        "    y_test = tf.keras.utils.to_categorical(y_test, 10) #test correct answer data -> one hot vector\n",
        "    print(y_test.shape)\n",
        "    print(x_train.shape)\n",
        "    x_train = x_train.reshape((x_train.shape[0],x_train.shape[1],x_train.shape[2],1)) \n",
        "    x_test = x_test.reshape((x_test.shape[0],x_test.shape[1],x_test.shape[2],1))\n",
        "    return x_train, y_train, x_test, y_test"
      ],
      "execution_count": 0,
      "outputs": []
    },
    {
      "cell_type": "code",
      "metadata": {
        "id": "P6ptFdQOspCB",
        "colab_type": "code",
        "outputId": "1ff40f02-06d4-4b7f-afaf-da6f98cf174f",
        "colab": {
          "base_uri": "https://localhost:8080/",
          "height": 1521
        }
      },
      "source": [
        "mnistGAN = MnistGAN()\n",
        "mnistGAN.train(iterations=3000)"
      ],
      "execution_count": 3,
      "outputs": [
        {
          "output_type": "stream",
          "text": [
            "WARNING: Logging before flag parsing goes to stderr.\n",
            "W0620 09:08:23.300964 140238245767040 deprecation.py:506] From /usr/local/lib/python3.6/dist-packages/tensorflow/python/ops/init_ops.py:1251: calling VarianceScaling.__init__ (from tensorflow.python.ops.init_ops) with dtype is deprecated and will be removed in a future version.\n",
            "Instructions for updating:\n",
            "Call initializer instance with the dtype argument instead of passing it to the constructor\n",
            "W0620 09:08:23.527497 140238245767040 deprecation.py:323] From /usr/local/lib/python3.6/dist-packages/tensorflow/python/ops/nn_impl.py:180: add_dispatch_support.<locals>.wrapper (from tensorflow.python.ops.array_ops) is deprecated and will be removed in a future version.\n",
            "Instructions for updating:\n",
            "Use tf.where in 2.0, which has the same broadcast rule as np.where\n"
          ],
          "name": "stderr"
        },
        {
          "output_type": "stream",
          "text": [
            "Model: \"sequential\"\n",
            "_________________________________________________________________\n",
            "Layer (type)                 Output Shape              Param #   \n",
            "=================================================================\n",
            "conv2d (Conv2D)              (None, 14, 14, 32)        320       \n",
            "_________________________________________________________________\n",
            "leaky_re_lu (LeakyReLU)      (None, 14, 14, 32)        0         \n",
            "_________________________________________________________________\n",
            "dropout (Dropout)            (None, 14, 14, 32)        0         \n",
            "_________________________________________________________________\n",
            "conv2d_1 (Conv2D)            (None, 7, 7, 64)          18496     \n",
            "_________________________________________________________________\n",
            "leaky_re_lu_1 (LeakyReLU)    (None, 7, 7, 64)          0         \n",
            "_________________________________________________________________\n",
            "dropout_1 (Dropout)          (None, 7, 7, 64)          0         \n",
            "_________________________________________________________________\n",
            "flatten (Flatten)            (None, 3136)              0         \n",
            "_________________________________________________________________\n",
            "dense (Dense)                (None, 1)                 3137      \n",
            "=================================================================\n",
            "Total params: 21,953\n",
            "Trainable params: 21,953\n",
            "Non-trainable params: 0\n",
            "_________________________________________________________________\n",
            "Model: \"sequential_1\"\n",
            "_________________________________________________________________\n",
            "Layer (type)                 Output Shape              Param #   \n",
            "=================================================================\n",
            "dense_1 (Dense)              (None, 6272)              633472    \n",
            "_________________________________________________________________\n",
            "reshape (Reshape)            (None, 7, 7, 128)         0         \n",
            "_________________________________________________________________\n",
            "batch_normalization (BatchNo (None, 7, 7, 128)         512       \n",
            "_________________________________________________________________\n",
            "up_sampling2d (UpSampling2D) (None, 14, 14, 128)       0         \n",
            "_________________________________________________________________\n",
            "conv2d_2 (Conv2D)            (None, 14, 14, 8)         9224      \n",
            "_________________________________________________________________\n",
            "activation (Activation)      (None, 14, 14, 8)         0         \n",
            "_________________________________________________________________\n",
            "batch_normalization_1 (Batch (None, 14, 14, 8)         32        \n",
            "_________________________________________________________________\n",
            "up_sampling2d_1 (UpSampling2 (None, 28, 28, 8)         0         \n",
            "_________________________________________________________________\n",
            "conv2d_3 (Conv2D)            (None, 28, 28, 4)         292       \n",
            "_________________________________________________________________\n",
            "activation_1 (Activation)    (None, 28, 28, 4)         0         \n",
            "_________________________________________________________________\n",
            "batch_normalization_2 (Batch (None, 28, 28, 4)         16        \n",
            "_________________________________________________________________\n",
            "conv2d_4 (Conv2D)            (None, 28, 28, 1)         37        \n",
            "_________________________________________________________________\n",
            "activation_2 (Activation)    (None, 28, 28, 1)         0         \n",
            "=================================================================\n",
            "Total params: 643,585\n",
            "Trainable params: 643,305\n",
            "Non-trainable params: 280\n",
            "_________________________________________________________________\n",
            "Downloading data from https://storage.googleapis.com/tensorflow/tf-keras-datasets/mnist.npz\n",
            "11493376/11490434 [==============================] - 0s 0us/step\n",
            "(60000, 28, 28, 1)\n",
            "(60000, 10)\n"
          ],
          "name": "stdout"
        },
        {
          "output_type": "error",
          "ename": "KeyboardInterrupt",
          "evalue": "ignored",
          "traceback": [
            "\u001b[0;31m---------------------------------------------------------------------------\u001b[0m",
            "\u001b[0;31mKeyboardInterrupt\u001b[0m                         Traceback (most recent call last)",
            "\u001b[0;32m<ipython-input-3-10f497a78a0f>\u001b[0m in \u001b[0;36m<module>\u001b[0;34m()\u001b[0m\n\u001b[1;32m      1\u001b[0m \u001b[0mmnistGAN\u001b[0m \u001b[0;34m=\u001b[0m \u001b[0mMnistGAN\u001b[0m\u001b[0;34m(\u001b[0m\u001b[0;34m)\u001b[0m\u001b[0;34m\u001b[0m\u001b[0;34m\u001b[0m\u001b[0m\n\u001b[0;32m----> 2\u001b[0;31m \u001b[0mmnistGAN\u001b[0m\u001b[0;34m.\u001b[0m\u001b[0mtrain\u001b[0m\u001b[0;34m(\u001b[0m\u001b[0miterations\u001b[0m\u001b[0;34m=\u001b[0m\u001b[0;36m3000\u001b[0m\u001b[0;34m)\u001b[0m\u001b[0;34m\u001b[0m\u001b[0;34m\u001b[0m\u001b[0m\n\u001b[0m",
            "\u001b[0;32m<ipython-input-2-1d3eb959d2e1>\u001b[0m in \u001b[0;36mtrain\u001b[0;34m(self, iterations, batch_size, save_interval, model_interval, check_noise, r, c)\u001b[0m\n\u001b[1;32m    112\u001b[0m \u001b[0;34m\u001b[0m\u001b[0m\n\u001b[1;32m    113\u001b[0m       \u001b[0mnoise\u001b[0m \u001b[0;34m=\u001b[0m \u001b[0mnp\u001b[0m\u001b[0;34m.\u001b[0m\u001b[0mrandom\u001b[0m\u001b[0;34m.\u001b[0m\u001b[0muniform\u001b[0m\u001b[0;34m(\u001b[0m\u001b[0;34m-\u001b[0m\u001b[0;36m1\u001b[0m\u001b[0;34m,\u001b[0m \u001b[0;36m1\u001b[0m\u001b[0;34m,\u001b[0m \u001b[0;34m(\u001b[0m\u001b[0mhalf_batch\u001b[0m\u001b[0;34m,\u001b[0m \u001b[0mself\u001b[0m\u001b[0;34m.\u001b[0m\u001b[0mz_dim\u001b[0m\u001b[0;34m)\u001b[0m\u001b[0;34m)\u001b[0m\u001b[0;34m\u001b[0m\u001b[0;34m\u001b[0m\u001b[0m\n\u001b[0;32m--> 114\u001b[0;31m       \u001b[0mgen_imgs\u001b[0m \u001b[0;34m=\u001b[0m \u001b[0mself\u001b[0m\u001b[0;34m.\u001b[0m\u001b[0mgenerator\u001b[0m\u001b[0;34m.\u001b[0m\u001b[0mpredict\u001b[0m\u001b[0;34m(\u001b[0m\u001b[0mnoise\u001b[0m\u001b[0;34m)\u001b[0m\u001b[0;34m\u001b[0m\u001b[0;34m\u001b[0m\u001b[0m\n\u001b[0m\u001b[1;32m    115\u001b[0m \u001b[0;34m\u001b[0m\u001b[0m\n\u001b[1;32m    116\u001b[0m \u001b[0;34m\u001b[0m\u001b[0m\n",
            "\u001b[0;32m/usr/local/lib/python3.6/dist-packages/tensorflow/python/keras/engine/training.py\u001b[0m in \u001b[0;36mpredict\u001b[0;34m(self, x, batch_size, verbose, steps, callbacks, max_queue_size, workers, use_multiprocessing)\u001b[0m\n\u001b[1;32m   1076\u001b[0m           \u001b[0mverbose\u001b[0m\u001b[0;34m=\u001b[0m\u001b[0mverbose\u001b[0m\u001b[0;34m,\u001b[0m\u001b[0;34m\u001b[0m\u001b[0;34m\u001b[0m\u001b[0m\n\u001b[1;32m   1077\u001b[0m           \u001b[0msteps\u001b[0m\u001b[0;34m=\u001b[0m\u001b[0msteps\u001b[0m\u001b[0;34m,\u001b[0m\u001b[0;34m\u001b[0m\u001b[0;34m\u001b[0m\u001b[0m\n\u001b[0;32m-> 1078\u001b[0;31m           callbacks=callbacks)\n\u001b[0m\u001b[1;32m   1079\u001b[0m \u001b[0;34m\u001b[0m\u001b[0m\n\u001b[1;32m   1080\u001b[0m   \u001b[0;32mdef\u001b[0m \u001b[0mreset_metrics\u001b[0m\u001b[0;34m(\u001b[0m\u001b[0mself\u001b[0m\u001b[0;34m)\u001b[0m\u001b[0;34m:\u001b[0m\u001b[0;34m\u001b[0m\u001b[0;34m\u001b[0m\u001b[0m\n",
            "\u001b[0;32m/usr/local/lib/python3.6/dist-packages/tensorflow/python/keras/engine/training_arrays.py\u001b[0m in \u001b[0;36mmodel_iteration\u001b[0;34m(model, inputs, targets, sample_weights, batch_size, epochs, verbose, callbacks, val_inputs, val_targets, val_sample_weights, shuffle, initial_epoch, steps_per_epoch, validation_steps, validation_freq, mode, validation_in_fit, prepared_feed_values_from_dataset, steps_name, **kwargs)\u001b[0m\n\u001b[1;32m    361\u001b[0m \u001b[0;34m\u001b[0m\u001b[0m\n\u001b[1;32m    362\u001b[0m         \u001b[0;31m# Get outputs.\u001b[0m\u001b[0;34m\u001b[0m\u001b[0;34m\u001b[0m\u001b[0;34m\u001b[0m\u001b[0m\n\u001b[0;32m--> 363\u001b[0;31m         \u001b[0mbatch_outs\u001b[0m \u001b[0;34m=\u001b[0m \u001b[0mf\u001b[0m\u001b[0;34m(\u001b[0m\u001b[0mins_batch\u001b[0m\u001b[0;34m)\u001b[0m\u001b[0;34m\u001b[0m\u001b[0;34m\u001b[0m\u001b[0m\n\u001b[0m\u001b[1;32m    364\u001b[0m         \u001b[0;32mif\u001b[0m \u001b[0;32mnot\u001b[0m \u001b[0misinstance\u001b[0m\u001b[0;34m(\u001b[0m\u001b[0mbatch_outs\u001b[0m\u001b[0;34m,\u001b[0m \u001b[0mlist\u001b[0m\u001b[0;34m)\u001b[0m\u001b[0;34m:\u001b[0m\u001b[0;34m\u001b[0m\u001b[0;34m\u001b[0m\u001b[0m\n\u001b[1;32m    365\u001b[0m           \u001b[0mbatch_outs\u001b[0m \u001b[0;34m=\u001b[0m \u001b[0;34m[\u001b[0m\u001b[0mbatch_outs\u001b[0m\u001b[0;34m]\u001b[0m\u001b[0;34m\u001b[0m\u001b[0;34m\u001b[0m\u001b[0m\n",
            "\u001b[0;32m/usr/local/lib/python3.6/dist-packages/tensorflow/python/keras/backend.py\u001b[0m in \u001b[0;36m__call__\u001b[0;34m(self, inputs)\u001b[0m\n\u001b[1;32m   3287\u001b[0m         \u001b[0mfeed_symbols\u001b[0m \u001b[0;34m!=\u001b[0m \u001b[0mself\u001b[0m\u001b[0;34m.\u001b[0m\u001b[0m_feed_symbols\u001b[0m \u001b[0;32mor\u001b[0m \u001b[0mself\u001b[0m\u001b[0;34m.\u001b[0m\u001b[0mfetches\u001b[0m \u001b[0;34m!=\u001b[0m \u001b[0mself\u001b[0m\u001b[0;34m.\u001b[0m\u001b[0m_fetches\u001b[0m \u001b[0;32mor\u001b[0m\u001b[0;34m\u001b[0m\u001b[0;34m\u001b[0m\u001b[0m\n\u001b[1;32m   3288\u001b[0m         session != self._session):\n\u001b[0;32m-> 3289\u001b[0;31m       \u001b[0mself\u001b[0m\u001b[0;34m.\u001b[0m\u001b[0m_make_callable\u001b[0m\u001b[0;34m(\u001b[0m\u001b[0mfeed_arrays\u001b[0m\u001b[0;34m,\u001b[0m \u001b[0mfeed_symbols\u001b[0m\u001b[0;34m,\u001b[0m \u001b[0msymbol_vals\u001b[0m\u001b[0;34m,\u001b[0m \u001b[0msession\u001b[0m\u001b[0;34m)\u001b[0m\u001b[0;34m\u001b[0m\u001b[0;34m\u001b[0m\u001b[0m\n\u001b[0m\u001b[1;32m   3290\u001b[0m \u001b[0;34m\u001b[0m\u001b[0m\n\u001b[1;32m   3291\u001b[0m     fetched = self._callable_fn(*array_vals,\n",
            "\u001b[0;32m/usr/local/lib/python3.6/dist-packages/tensorflow/python/keras/backend.py\u001b[0m in \u001b[0;36m_make_callable\u001b[0;34m(self, feed_arrays, feed_symbols, symbol_vals, session)\u001b[0m\n\u001b[1;32m   3220\u001b[0m       \u001b[0mcallable_opts\u001b[0m\u001b[0;34m.\u001b[0m\u001b[0mrun_options\u001b[0m\u001b[0;34m.\u001b[0m\u001b[0mCopyFrom\u001b[0m\u001b[0;34m(\u001b[0m\u001b[0mself\u001b[0m\u001b[0;34m.\u001b[0m\u001b[0mrun_options\u001b[0m\u001b[0;34m)\u001b[0m\u001b[0;34m\u001b[0m\u001b[0;34m\u001b[0m\u001b[0m\n\u001b[1;32m   3221\u001b[0m     \u001b[0;31m# Create callable.\u001b[0m\u001b[0;34m\u001b[0m\u001b[0;34m\u001b[0m\u001b[0;34m\u001b[0m\u001b[0m\n\u001b[0;32m-> 3222\u001b[0;31m     \u001b[0mcallable_fn\u001b[0m \u001b[0;34m=\u001b[0m \u001b[0msession\u001b[0m\u001b[0;34m.\u001b[0m\u001b[0m_make_callable_from_options\u001b[0m\u001b[0;34m(\u001b[0m\u001b[0mcallable_opts\u001b[0m\u001b[0;34m)\u001b[0m\u001b[0;34m\u001b[0m\u001b[0;34m\u001b[0m\u001b[0m\n\u001b[0m\u001b[1;32m   3223\u001b[0m     \u001b[0;31m# Cache parameters corresponding to the generated callable, so that\u001b[0m\u001b[0;34m\u001b[0m\u001b[0;34m\u001b[0m\u001b[0;34m\u001b[0m\u001b[0m\n\u001b[1;32m   3224\u001b[0m     \u001b[0;31m# we can detect future mismatches and refresh the callable.\u001b[0m\u001b[0;34m\u001b[0m\u001b[0;34m\u001b[0m\u001b[0;34m\u001b[0m\u001b[0m\n",
            "\u001b[0;32m/usr/local/lib/python3.6/dist-packages/tensorflow/python/client/session.py\u001b[0m in \u001b[0;36m_make_callable_from_options\u001b[0;34m(self, callable_options)\u001b[0m\n\u001b[1;32m   1487\u001b[0m     \"\"\"\n\u001b[1;32m   1488\u001b[0m     \u001b[0mself\u001b[0m\u001b[0;34m.\u001b[0m\u001b[0m_extend_graph\u001b[0m\u001b[0;34m(\u001b[0m\u001b[0;34m)\u001b[0m\u001b[0;34m\u001b[0m\u001b[0;34m\u001b[0m\u001b[0m\n\u001b[0;32m-> 1489\u001b[0;31m     \u001b[0;32mreturn\u001b[0m \u001b[0mBaseSession\u001b[0m\u001b[0;34m.\u001b[0m\u001b[0m_Callable\u001b[0m\u001b[0;34m(\u001b[0m\u001b[0mself\u001b[0m\u001b[0;34m,\u001b[0m \u001b[0mcallable_options\u001b[0m\u001b[0;34m)\u001b[0m\u001b[0;34m\u001b[0m\u001b[0;34m\u001b[0m\u001b[0m\n\u001b[0m\u001b[1;32m   1490\u001b[0m \u001b[0;34m\u001b[0m\u001b[0m\n\u001b[1;32m   1491\u001b[0m \u001b[0;34m\u001b[0m\u001b[0m\n",
            "\u001b[0;32m/usr/local/lib/python3.6/dist-packages/tensorflow/python/client/session.py\u001b[0m in \u001b[0;36m__init__\u001b[0;34m(self, session, callable_options)\u001b[0m\n\u001b[1;32m   1444\u001b[0m       \u001b[0;32mtry\u001b[0m\u001b[0;34m:\u001b[0m\u001b[0;34m\u001b[0m\u001b[0;34m\u001b[0m\u001b[0m\n\u001b[1;32m   1445\u001b[0m         self._handle = tf_session.TF_SessionMakeCallable(\n\u001b[0;32m-> 1446\u001b[0;31m             session._session, options_ptr)\n\u001b[0m\u001b[1;32m   1447\u001b[0m       \u001b[0;32mfinally\u001b[0m\u001b[0;34m:\u001b[0m\u001b[0;34m\u001b[0m\u001b[0;34m\u001b[0m\u001b[0m\n\u001b[1;32m   1448\u001b[0m         \u001b[0mtf_session\u001b[0m\u001b[0;34m.\u001b[0m\u001b[0mTF_DeleteBuffer\u001b[0m\u001b[0;34m(\u001b[0m\u001b[0moptions_ptr\u001b[0m\u001b[0;34m)\u001b[0m\u001b[0;34m\u001b[0m\u001b[0;34m\u001b[0m\u001b[0m\n",
            "\u001b[0;31mKeyboardInterrupt\u001b[0m: "
          ]
        }
      ]
    },
    {
      "cell_type": "markdown",
      "metadata": {
        "id": "Njbvh3UxLWjO",
        "colab_type": "text"
      },
      "source": [
        "# CapsuleNet on MNIST"
      ]
    },
    {
      "cell_type": "markdown",
      "metadata": {
        "id": "n6CtxzuLWlOg",
        "colab_type": "text"
      },
      "source": [
        "$S_{j}$ = $\\sum_{i}C_{ij}\\widehat{u}_{j|i},{u}_{i|j} = W_{ij}u_{i}$  \\\\\n",
        "$V_{j} = squash(S_{j}) =\\frac{\\Vert S_{j}\\Vert}{0.5+\\Vert S_{j}\\Vert^{2}}S_{j}$"
      ]
    },
    {
      "cell_type": "code",
      "metadata": {
        "id": "ITO8mTaZLeyS",
        "colab_type": "code",
        "colab": {}
      },
      "source": [
        "def squash(x, axis=-1):\n",
        "  s_squared_norm = backend.sum(backend.square(x), axis=asix, keepdims=True) + backend.epsilon()\n",
        "  scale = backend.sqrt(s_squared_norm) / (0.5 + s_squared_norm)\n",
        "  return scale * x"
      ],
      "execution_count": 0,
      "outputs": []
    },
    {
      "cell_type": "markdown",
      "metadata": {
        "id": "WTt-S-4jY37f",
        "colab_type": "text"
      },
      "source": [
        "$c_{ij} = \\frac{e^{b_{ij}}}{\\sum}_{ke^{b_{ik}}}$"
      ]
    },
    {
      "cell_type": "code",
      "metadata": {
        "id": "j45FmiW7OjUp",
        "colab_type": "code",
        "colab": {}
      },
      "source": [
        "def softmax(x, axis=-1):\n",
        "  ex = backend.exp(x - backend.max(x, axis=axis, keepdims=True))\n",
        "  sum_ex = backend.sum(ex, axis=axis, keepdims=True)\n",
        "  return ex / sum_ex"
      ],
      "execution_count": 0,
      "outputs": []
    },
    {
      "cell_type": "markdown",
      "metadata": {
        "id": "rvUFgLHse9Rn",
        "colab_type": "text"
      },
      "source": [
        "### call function"
      ]
    },
    {
      "cell_type": "code",
      "metadata": {
        "id": "cOBBkngEe_Wl",
        "colab_type": "code",
        "colab": {}
      },
      "source": [
        "def call(self, inputs):\n",
        "  batch_size = backend.shape(inputs)[0]          # enumerial of batch\n",
        "  input_num_capsule = backend.shape(inputs)[1]   # the number of capsule\n",
        "  \n",
        "  hat_inputs = Conv1D(inputs, kernel=self.kernel)\n",
        "  hat_inputs = Reshape(hat_inputs, shape=(batch_size, input_num_capsule))"
      ],
      "execution_count": 0,
      "outputs": []
    },
    {
      "cell_type": "markdown",
      "metadata": {
        "id": "P9HjMHPEf5lw",
        "colab_type": "text"
      },
      "source": [
        "### CapsNet-keras-MNIST\n",
        "#### CapsuleLayer"
      ]
    },
    {
      "cell_type": "code",
      "metadata": {
        "id": "S6ia6Wl6k7Qd",
        "colab_type": "code",
        "outputId": "fae31135-c7ac-4044-e482-9ba0ea922833",
        "colab": {
          "base_uri": "https://localhost:8080/",
          "height": 54
        }
      },
      "source": [
        "\"\"\"\n",
        "Some key layers used for constructing a Capsule Network.\n",
        "\"\"\"\n",
        "class Length(tf.keras.layers.Layer):\n",
        "  \"\"\"\n",
        "  Compute length of vectors。 This is used to compute a Tensor that has the \n",
        "  same shape with y_ture in margin_loss. Using this layer as model's output\n",
        "  can directly predict labels by using 'y_pred = np.argmax(model.predict(x), 1)'\n",
        "  inputs: shape = [None, num_vectors, dim_vector]\n",
        "  output: shape = [None, num_vectors]\n",
        "  \"\"\"\n",
        "  def call(self, inputs, **kwargs):\n",
        "    return backend.sqrt(backend.sum(bakcend.square(inputs), -1))\n",
        "  \n",
        "  def compute_output_shape(self, input_shape):\n",
        "    return input_shape[:-1]\n",
        "  \n",
        "  def get_config(self):\n",
        "    config = super(Length, self).get_config()\n",
        "    return config\n",
        "  \n",
        "\n",
        "class Mask(tf.keras.layers.Layer):\n",
        "  \"\"\"\n",
        "  Mask a Tensor with shape=[None, num_capsule, dim_vector] either by the capsule\n",
        "  with max length or by an additional input mask. Except the max-lenght capsule\n",
        "  (or specified capsule), all vectors are masked to zeros. Then flatten the masked\n",
        "  Tensor.\n",
        "  For example:\n",
        "    '''\n",
        "    x = keras.layers.Input(shape=[8, 3, 2]) #batch_size=8, each sample contains 3 capsules with dim_vector=2\n",
        "    y = keras.layers.Input(shape=[8, 3]) # True labels. 8 samples, 3 calasses, one-hot coding.\n",
        "    out = Mask()([x,y]) # out2.shape=[8,6]. Masked with true labels y. Of course u can also be manipulated.\n",
        "    '''\n",
        "  \"\"\"\n",
        "  def call(self, inputs, **kwargs):\n",
        "    if type(inputs) is list: # true label is provided with shape = [None, n_classes], i.e. one-hot code.\n",
        "      assert len(inputs) == 2\n",
        "      inputs, mask = inputs\n",
        "    else:  # if no true label, mask by the max length of capsules. Mainly used for prediction\n",
        "      # compute lengths of capsules\n",
        "      x = backend.sqrt(backend.sum(backend.square(inputs), -1))\n",
        "      # generate the mask which is a one-hot code.\n",
        "      # mask.shape = [None, n_classes] = [None, num_capsule]\n",
        "      mask = backend.one_hot(indices=backend.argmax(x, 1), num_classes=x.get_shape().as_list()[1])\n",
        "      \n",
        "  # inputs.shape=[None, num_capsule, dim_capsule]\n",
        "  # mask.shape=[None, num_capsule]\n",
        "    masked = backend.batch_flatten(inputs * backend.expand_dims(mask, -1))\n",
        "    return masked\n",
        "      \n",
        "  \n",
        "  def compute_output_shape(self, input_shape):\n",
        "    if type(input_shape[0]) is tuple: # true label provided\n",
        "      return tuple([None, input_shape[0][1] * input_shape[0][2]])\n",
        "    else: # no true label provided\n",
        "      return tuple([None, input_shape[1] * input_shape[2]])\n",
        "    \n",
        "    \n",
        "  def get_config(self):\n",
        "    config = super().get_config() # get config from tensorflow.keras.layers.Layer\n",
        "    return config\n",
        "      \n",
        "      \n",
        "def squash(vectors, axis=-1):\n",
        "  \"\"\"\n",
        "  The non-linear activation used in Capsule. It drives the length of a large vector\n",
        "  to near 1 and small vector to 0\n",
        "  :param vectors: some vectors to be squashed, N-dim tensor\n",
        "  :param axis: the axis to squash\n",
        "  ]return: a Tensor with same shape as input vectors\n",
        "  \"\"\"\n",
        "  s_squared_norm = backend.sum(backend.square(vectors), axis, keepdims=True)\n",
        "  scale = s_squared_norm / (1 + s_squared_norm) / backend.sqrt(s_sauqred_norm + backend.epsilon())\n",
        "  return scale * vectors\n",
        "  \n",
        "      \n",
        "class CapsuleLayer(tf.keras.layers.Layer):\n",
        "  \"\"\"\n",
        "  The capsule layer. It is similar to Dense layer. Dense layer has 'in_num' inputs, \n",
        "  each is a scalar, the output of the neuron from the former layer, and it has 'out_num'\n",
        "  output neurons. CapsuleLayer just expand the output of the neuron from scalar to vector.\n",
        "  So its input  shape = [None, input_num_capsule, input_dim_capsule] and output shape = \\\n",
        "  [None, num_capsule, dim_capsule]. For Dense Layer, input_dim_capsule = dim_capsule = 1.\n",
        "  \"\"\"\n",
        "  def __init__(self, num_capsule, dim_capsule, routings=3,\\\n",
        "               kernel_inintializer='glorot_uniform'):\n",
        "    super().__init__(**kwargs)\n",
        "    self.num_capsule = num_capsule\n",
        "    self.dim_capsule = dim_capsule\n",
        "    self.routings = routings\n",
        "    self.kernel_initializer = initializer.get(kernel_initializer)\n",
        "    \n",
        "  def build(self, input_shape):\n",
        "    assert len(input_shape) >= 3, ' The input Tensor should have shape=[None, input_num_capsule, input_dim_capsule] '\n",
        "    self.input_num_capsule = input_shape[1]\n",
        "    self.input_dim_capsule = input_shape[2]\n",
        "    \n",
        "    # Transform matrix\n",
        "    self.W = self.add_weight(shap=[self.num_capsule, self.input_num_capsule,\\\n",
        "                                   self.dim_capsule, self.input_dim_capsule],\n",
        "                             initializer=self.kernel_initializer,\n",
        "                             name='W')\n",
        "    \n",
        "    self.build = True\n",
        "    \n",
        "    \n",
        "  def call(self, intpus, training=None):\n",
        "    # inputs.shape=[None, input_num_capsule, input_dim_capsule]\n",
        "    # inputs_expand.shape=[None, 1, input_num_capsule, input_dim_capsule]\n",
        "    inputs_expand = backend.dims(inputs, 1)\n",
        "    \n",
        "    # Replicate num_capsule dimension to prepare being multiplied by W\n",
        "    # inputs_tiled.shape=[None, num_capsule, input_num_capsule, dim_capsule]\n",
        "    inputs_hat = backend.map_fn(lambda x: backend.batch_dot(x, self.W, [2, 3]), elems=inputs_tiled)\n",
        "    \n",
        "    # Begin: Routing algorithm -------------------------------------------------#\n",
        "    # The prior for coupling coefficient, initialized as zeros.\n",
        "    # b.shape = [None, self.num.capsule, self.input_num_capsule].\n",
        "    b = tf.zeros(shape=[K.shape(input_hat)[0], self.num_capsule, self.input_num_capusle])\n",
        "    \n",
        "    assert self.routings > 0, ' The routings should be > 0. '\n",
        "    for i in range(self.routings):\n",
        "      # c.shape=[None, self.num_capsule, self.input_num_capsule].\n",
        "      c = tf.nn.softmax(b, dim=1)\n",
        "      \n",
        "      # c.shape = [batch_size, num_capsule, input_num_capsule]\n",
        "      # inputs_hat.shape = [None, num_capsule, input_num_capsule, dim_capsule]\n",
        "      # The first two dimensions as 'batch' dimension,\n",
        "      # then matmal: [input_num_capsule] x [input_num_capsule, dim_capsule] -> [dim_capsule]\n",
        "      # outputs.shape=[None, num_capsule, dim_capsule]\n",
        "      outputs = squash(backend.batch_dot(c, inputs_hat, [2, 2])) # [None, 10, 16]\n",
        "      \n",
        "      if i < self.routings -1:\n",
        "        # outputs.shape = [None, num_capsule, dim_capsule]\n",
        "        # input_hat.shape = [None, num_capsule, input_num_capsule, dim_capsule]\n",
        "        # The first two dimensions as 'batch' dimension,\n",
        "        # then matmal: [dim_capusle] x [input_num_capsule, dim_capsule]^T -> [input_num_capsule].\n",
        "        # b.shape=[batch_size, num_capsule, input_num_capsule]\n",
        "        b += backend.batch_dot(outputs, inputs_hat, [2, 3])\n",
        "        \n",
        "    # End: Routing algorithm ---------------------------------------------------#\n",
        "    \n",
        "    return outputs\n",
        "  \n",
        "  \n",
        "  def comput_output_shape(self, input_shape):\n",
        "    return tuple([None, self.num_capsule, self.dim_capsule])\n",
        "  \n",
        "  \n",
        "  def get_config(self):\n",
        "    config = {\n",
        "        'num_capsule': self.num_capsule,\n",
        "        'dim_capsule': self.dim_capsule,\n",
        "        'routings': self.routings\n",
        "    }\n",
        "    base_config = super().get_config()\n",
        "    return dict(list(base_config.items()) + list(config.items()))\n",
        "    \n",
        "\n",
        "def PrimaryCap(inputs, dim_capsule, n_channels, kernel_size, strides, padding):\n",
        "  \"\"\"\n",
        "  Apply Conv2D 'n_channels' times and concatenate all capsules\n",
        "  :param inputs: 4D tensor, shape=[None, width, height, channels]\n",
        "  :param dim_capsule: the dim of the output vector of capsule\n",
        "  :param n_channels: the number of types of capsules\n",
        "  :return: output tensor shape=[None, num_capsule, dim_capsule]\n",
        "  \"\"\"\n",
        "  output = Conv2D(filters=dim_capsule*n_channels, kernel_size=kernel_size, \\\n",
        "                  strides=strides, padding=padding, name='primarycap_conv2d')(inputs)\n",
        "  outputs = Reshape(target_shape=[-1, dim_capsule], name='primarycap_reshape')(output)\n",
        "  return tf.keras.layers.Lambda(squash, name='primaricap_squash')(outputs)\n",
        "\n",
        "\n",
        "\"\"\"\n",
        "# The following it another way to implement primary capsule layer, This is much slower.\n",
        "# Apply Conv2D 'n_channels' times and concatenate all capsules\n",
        "\n",
        "def PrimaryCap(inputs, dim_capsule, n_channels, kernel_size, strides, padding):\n",
        "  outputs = []\n",
        "  for _ in range(n_channels):\n",
        "    ooutput = Conv2D(filters=dim_capsule*n_channels, kernel_size=kernel_size, \\\n",
        "                  strides=strides, padding=padding, name='primarycap_conv2d')(inputs)\n",
        "    outputs.append(Reshape([output.get_shape().as_list()[1] ** 2, dim_capsule])(output))\n",
        "    return tf.keras.layers.Lambda(squash)(outputs)\n",
        "\"\"\" "
      ],
      "execution_count": 0,
      "outputs": [
        {
          "output_type": "execute_result",
          "data": {
            "text/plain": [
              "\"\\n# The following it another way to implement primary capsule layer, This is much slower.\\n# Apply Conv2D 'n_channels' times and concatenate all capsules\\n\\ndef PrimaryCap(inputs, dim_capsule, n_channels, kernel_size, strides, padding):\\n  outputs = []\\n  for _ in range(n_channels):\\n    ooutput = Conv2D(filters=dim_capsule*n_channels, kernel_size=kernel_size,                   strides=strides, padding=padding, name='primarycap_conv2d')(inputs)\\n    outputs.append(Reshape([output.get_shape().as_list()[1] ** 2, dim_capsule])(output))\\n    return tf.keras.layers.Lambda(squash)(outputs)\\n\""
            ]
          },
          "metadata": {
            "tags": []
          },
          "execution_count": 3
        }
      ]
    },
    {
      "cell_type": "markdown",
      "metadata": {
        "id": "oO60WcIapKgl",
        "colab_type": "text"
      },
      "source": [
        "### CapsuleNet"
      ]
    },
    {
      "cell_type": "code",
      "metadata": {
        "id": "vG3xpZTDf-_x",
        "colab_type": "code",
        "colab": {}
      },
      "source": [
        "\"\"\"\n",
        "Hinton's paper Dynamic Routing Between Capsule\n",
        "\"\"\"\n",
        "\n",
        "def CapsNet(input_shape, n_class, routings):\n",
        "  \"\"\"\n",
        "  A Capsule Network on MNIST.\n",
        "  :param input_shape: data shape, 3d, [width, height, channels]\n",
        "  :param n_class: number of classes\n",
        "  :param routings: numver of routing iterations\n",
        "  :return: Two Keras Models, the first one used for training, and the second one for evaluation.\n",
        "                  'eval_model' can alse be used for training.\n",
        "  \"\"\"\n",
        "  x = layers.Input(shape=input_shape)\n",
        "  \n",
        "  # Layer 1: Just a cooventional Conv2D layer\n",
        "  conv1 = Conv2D(filters=256, kernel_size=9, strides=1, padding='valid', \\\n",
        "                 activation='relu', name='conv1')(x)\n",
        "  \n",
        "  # Layer 2: Conv2D layer with 'squash' activation, then reshape to [None, num_capsule, dim_capsule]\n",
        "  primarycaps = PrimaryCap(conv1, dim_capsule=8, n_channels=32, kernel_size=9, strides=2,padding='valid')\n",
        "  \n",
        "  # Layer 3: Capsule layer. Routing algorithm works here.\n",
        "  digitcaps = CapsuleLayer(num_capsule=n_class, dim_capsule=16, routings=routings,\n",
        "                           name='digitcaps')(primarycaps)\n",
        "  \n",
        "  # Layer 4: This is auxiliary layer to replace each capsule with its length.\n",
        "  # Just to match the true label's shape.\n",
        "  # If using tensorflow, this will not be neccessary.\n",
        "  \n",
        "  # Decoder network.\n",
        "  y = layers.Input(shape=(n_classes,))\n",
        "  masked_by_y = Mask()([digitcaps, y]) # The true label is used to mask the output of capsule layer. For training\n",
        "  masked = Mask()(digitcaps) # Mask using the capsule with maximal length. For prediction\n",
        "  \n",
        "  # Shared Decoder model in training and prediction\n",
        "  decoder = models.Sequantial(name='decoder')\n",
        "  decoder.add(Dense(512, activation='relu', input_dim=16*n_class))\n",
        "  decoder.add(Dense(1024, activation='relu'))\n",
        "  decoder.add(Dense(np.prod(input_shape), activation='sigmoid'))\n",
        "  decoder.add(Reshape(target_shape=input_shape, name='out_recon'))\n",
        "  \n",
        "  # shared Decoder model in training and prediction\n",
        "  decoder = models.Sequential(name='decoder')\n",
        "  \n",
        "  "
      ],
      "execution_count": 0,
      "outputs": []
    },
    {
      "cell_type": "code",
      "metadata": {
        "id": "_qYYDvCLy5Fj",
        "colab_type": "code",
        "outputId": "76feac29-4b92-4144-e8c2-ce88383f44db",
        "colab": {
          "base_uri": "https://localhost:8080/",
          "height": 182
        }
      },
      "source": [
        ""
      ],
      "execution_count": 0,
      "outputs": [
        {
          "output_type": "error",
          "ename": "AssertionError",
          "evalue": "ignored",
          "traceback": [
            "\u001b[0;31m---------------------------------------------------------------------------\u001b[0m",
            "\u001b[0;31mAssertionError\u001b[0m                            Traceback (most recent call last)",
            "\u001b[0;32m<ipython-input-73-132755ac3685>\u001b[0m in \u001b[0;36m<module>\u001b[0;34m()\u001b[0m\n\u001b[1;32m      1\u001b[0m \u001b[0mt\u001b[0m \u001b[0;34m=\u001b[0m \u001b[0;36m3\u001b[0m\u001b[0;34m\u001b[0m\u001b[0;34m\u001b[0m\u001b[0m\n\u001b[0;32m----> 2\u001b[0;31m \u001b[0;32massert\u001b[0m \u001b[0mt\u001b[0m \u001b[0;34m<\u001b[0m \u001b[0;36m2\u001b[0m\u001b[0;34m,\u001b[0m \u001b[0;34m'a should lower than 2'\u001b[0m\u001b[0;34m\u001b[0m\u001b[0;34m\u001b[0m\u001b[0m\n\u001b[0m",
            "\u001b[0;31mAssertionError\u001b[0m: a should lower than 2"
          ]
        }
      ]
    },
    {
      "cell_type": "code",
      "metadata": {
        "id": "FBNiOLiI0Ftw",
        "colab_type": "code",
        "outputId": "51241c0c-a417-4b5a-f20e-974f9c7c789b",
        "colab": {
          "base_uri": "https://localhost:8080/",
          "height": 203
        }
      },
      "source": [
        "class testClass():\n",
        "  \n",
        "  def __init__(self):\n",
        "    pass\n",
        "  @property\n",
        "  def call(self, n):\n",
        "    print('test test {}'.format(n))\n",
        "    \n",
        "tmp = testClass(n)"
      ],
      "execution_count": 0,
      "outputs": [
        {
          "output_type": "error",
          "ename": "NameError",
          "evalue": "ignored",
          "traceback": [
            "\u001b[0;31m---------------------------------------------------------------------------\u001b[0m",
            "\u001b[0;31mNameError\u001b[0m                                 Traceback (most recent call last)",
            "\u001b[0;32m<ipython-input-28-b6267ec9f057>\u001b[0m in \u001b[0;36m<module>\u001b[0;34m()\u001b[0m\n\u001b[1;32m      7\u001b[0m     \u001b[0mprint\u001b[0m\u001b[0;34m(\u001b[0m\u001b[0;34m'test test {}'\u001b[0m\u001b[0;34m.\u001b[0m\u001b[0mformat\u001b[0m\u001b[0;34m(\u001b[0m\u001b[0mn\u001b[0m\u001b[0;34m)\u001b[0m\u001b[0;34m)\u001b[0m\u001b[0;34m\u001b[0m\u001b[0;34m\u001b[0m\u001b[0m\n\u001b[1;32m      8\u001b[0m \u001b[0;34m\u001b[0m\u001b[0m\n\u001b[0;32m----> 9\u001b[0;31m \u001b[0mtmp\u001b[0m \u001b[0;34m=\u001b[0m \u001b[0mtestClass\u001b[0m\u001b[0;34m(\u001b[0m\u001b[0mn\u001b[0m\u001b[0;34m)\u001b[0m\u001b[0;34m\u001b[0m\u001b[0;34m\u001b[0m\u001b[0m\n\u001b[0m",
            "\u001b[0;31mNameError\u001b[0m: name 'n' is not defined"
          ]
        }
      ]
    },
    {
      "cell_type": "markdown",
      "metadata": {
        "id": "g06QKrOjIOzE",
        "colab_type": "text"
      },
      "source": [
        "# Generating Training Time Adversarial Data with Auto-Encoder"
      ]
    },
    {
      "cell_type": "code",
      "metadata": {
        "id": "MNEq4hp0XFVI",
        "colab_type": "code",
        "colab": {}
      },
      "source": [
        "def classificationModel():\n",
        "  model = Sequential()\n",
        "  model.add(Dense(128, activation='relu', input_shape=(28*28,)))\n",
        "  model.add(Dense(64,  activation='relu'))\n",
        "  model.add(Dense(32,  activation='relu'))\n",
        "  model.add(Dense(10,  activation='softmax'))\n",
        "  model.compile(optimizer='adam', loss='categorical_crossentropy')\n",
        "  \n",
        "  inputs = Input(shape=(28*28,))\n",
        "  outputs = model(inputs)\n",
        "  \n",
        "  return Model(inputs=inputs, outputs=outputs)\n",
        "\n",
        "\n",
        "def generateNoiseModel():\n",
        "  model = Sequential()\n",
        "  #-----------------------#\n",
        "  model.add(Dense(7*7*128, activation='relu', input_shape=(100,)))\n",
        "  model.add(Reshape((7, 7, 128)))\n",
        "  model.add(BatchNormalization(momentum=0.8))\n",
        "  model.add(UpSampling2D())                   # (14,14,128)\n",
        "  #-----------------------#\n",
        "  model.add(Conv2D(8, kernel_size=3, padding='same'))\n",
        "  model.add(Activation('relu'))\n",
        "  model.add(BatchNormalization(momentum=0.8))\n",
        "  model.add(UpSampling2D())                   # (28,28,128)\n",
        "  #-----------------------#\n",
        "  model.add(Conv2D(4, kernel_size=3, padding='same'))\n",
        "  model.add(Activation('relu'))\n",
        "  model.add(BatchNormalization(momentum=0.8)) # (28,28,64) \n",
        "  #-----------------------#\n",
        "  model.add(Conv2D(1, kernel_size=3, padding='same'))\n",
        "  model.add(Activation('tanh'))\n",
        "  model.compile(optimizer='adam', loss='categorical_crossentropy')\n",
        "  \n",
        "  noise = Input(shape=(100,))\n",
        "    \n",
        "  img = model(noise)\n",
        "\n",
        "  return Model(inputs=noise, outputs=img)\n",
        "\n",
        "\n",
        "def update_Model(model, x, goal):\n",
        "  \"\"\" Calculate derivatives wrt the intputs \"\"\"\n",
        "  y_true = Input(shape=(10,))\n",
        "  ce = categorical_crossentropy(y_true, model.output)\n",
        "  grad_ce = tf.keras.backend.gradients(ce, model.inputs)\n",
        "  # update network parameters\n",
        "  theta = model.get_weights()\n",
        "  new_theta = theta - 1e-3*grad_ce\n",
        "  # Create a function to be able to run this computation graph\n",
        "  func = tf.keras.backend.function(model.inputs + [y_true], grad_ce)\n",
        "  output = func([x, goal])\n",
        "  \n",
        "  return output\n",
        "\n",
        "\n",
        "def trainAE():\n",
        "  pass\n",
        "\n",
        "\n",
        "classification = classificationModel()\n",
        "generation = generateNoiseModel()\n",
        "\n",
        "\n",
        "# noise = np.random.uniform(-1, 1, (1,100))\n",
        "# print(noise.shape)\n",
        "# gen_img = generation.predict(noise)\n",
        "\n",
        "# classification.compile(optimizer='adam', loss='categorical_crossentropy')\n",
        "# classification.fit(x_train, y_train, batch_size=64, epochs=5, validation_data=(x_test, y_test))\n",
        "\n",
        "# classification.summary()\n",
        "# a = np.array(classification.get_weights())\n",
        "# classification.set_weights(a + 1)\n",
        "# print(classification.get_weights())"
      ],
      "execution_count": 0,
      "outputs": []
    },
    {
      "cell_type": "code",
      "metadata": {
        "id": "WHsXCTPwjkjM",
        "colab_type": "code",
        "outputId": "71ecee97-0649-464b-92a0-9210460dde41",
        "colab": {
          "base_uri": "https://localhost:8080/",
          "height": 51
        }
      },
      "source": [
        "a = [[1,2,3],[3,4,5]]\n",
        "b = [0,0,0]\n",
        "print(np.shape(a), np.shape(b), np.shape(a+b))\n",
        "(a+b)[1]"
      ],
      "execution_count": 0,
      "outputs": [
        {
          "output_type": "stream",
          "text": [
            "(2, 3) (3,) (5,)\n"
          ],
          "name": "stdout"
        },
        {
          "output_type": "execute_result",
          "data": {
            "text/plain": [
              "[3, 4, 5]"
            ]
          },
          "metadata": {
            "tags": []
          },
          "execution_count": 18
        }
      ]
    }
  ]
}