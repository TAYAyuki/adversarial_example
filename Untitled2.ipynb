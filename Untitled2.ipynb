{
  "nbformat": 4,
  "nbformat_minor": 0,
  "metadata": {
    "colab": {
      "name": "Untitled2.ipynb",
      "version": "0.3.2",
      "provenance": [],
      "include_colab_link": true
    },
    "kernelspec": {
      "name": "python3",
      "display_name": "Python 3"
    },
    "accelerator": "GPU"
  },
  "cells": [
    {
      "cell_type": "markdown",
      "metadata": {
        "id": "view-in-github",
        "colab_type": "text"
      },
      "source": [
        "<a href=\"https://colab.research.google.com/github/TAYAyuki/adversarial_example/blob/master/Untitled2.ipynb\" target=\"_parent\"><img src=\"https://colab.research.google.com/assets/colab-badge.svg\" alt=\"Open In Colab\"/></a>"
      ]
    },
    {
      "cell_type": "code",
      "metadata": {
        "id": "-nlhpHHYGmLS",
        "colab_type": "code",
        "colab": {}
      },
      "source": [
        "import numpy as np\n",
        "import pandas as pd #データ解析"
      ],
      "execution_count": 0,
      "outputs": []
    },
    {
      "cell_type": "code",
      "metadata": {
        "id": "8lRSzvHmIXi3",
        "colab_type": "code",
        "colab": {}
      },
      "source": [
        "df=pd.read_csv(\"mnist_train.csv\")\n",
        "labels=df[\"5\"].values\n",
        "df.drop(\"5\", axis=1, inplace=True)\n",
        "pixels=df.values\n",
        "pixels=pixels/255\n",
        "pixels=pixels.reshape(len(df),28,28,1)"
      ],
      "execution_count": 0,
      "outputs": []
    },
    {
      "cell_type": "markdown",
      "metadata": {
        "id": "ucXCywsFLRlN",
        "colab_type": "text"
      },
      "source": [
        ""
      ]
    },
    {
      "cell_type": "code",
      "metadata": {
        "id": "5LMGkyaCKCo-",
        "colab_type": "code",
        "colab": {}
      },
      "source": [
        "import keras\n",
        "import tensorflow as tf"
      ],
      "execution_count": 0,
      "outputs": []
    },
    {
      "cell_type": "code",
      "metadata": {
        "id": "6tDqsVLWKHqV",
        "colab_type": "code",
        "colab": {}
      },
      "source": [
        "input_cnn=keras.layers.Input(shape=(28, 28, 1))\n",
        "model_cnn=keras.layers.Conv2D(20, (3, 3), padding=\"valid\", activation=tf.nn.relu,)(input_cnn)\n",
        "model_cnn=keras.layers.MaxPooling2D(pool_size=(3,3))(model_cnn)\n",
        "model_cnn=keras.layers.Conv2D(50, (3, 3), padding=\"valid\", activation=tf.nn.relu,)(model_cnn)\n",
        "model_cnn=keras.layers.MaxPooling2D(pool_size=(3,3))(model_cnn)\n",
        "model_cnn=keras.layers.BatchNormalization()(model_cnn)\n",
        "model_cnn=keras.layers.Flatten()(model_cnn)\n",
        "model_cnn=keras.layers.Dense(225, activation=tf.nn.relu)(model_cnn)\n",
        "model_cnn=keras.layers.Dense(10, activation=\"softmax\")(model_cnn)"
      ],
      "execution_count": 0,
      "outputs": []
    },
    {
      "cell_type": "code",
      "metadata": {
        "id": "riJ1XtqnKScB",
        "colab_type": "code",
        "colab": {
          "base_uri": "https://localhost:8080/",
          "height": 71
        },
        "outputId": "03f3ef2a-60ab-4977-a2eb-897ba5b6881c"
      },
      "source": [
        "model=keras.models.Model(inputs=input_cnn, output=model_cnn)"
      ],
      "execution_count": 30,
      "outputs": [
        {
          "output_type": "stream",
          "text": [
            "/usr/local/lib/python3.6/dist-packages/ipykernel_launcher.py:1: UserWarning: Update your `Model` call to the Keras 2 API: `Model(inputs=Tensor(\"in..., outputs=Tensor(\"de...)`\n",
            "  \"\"\"Entry point for launching an IPython kernel.\n"
          ],
          "name": "stderr"
        }
      ]
    },
    {
      "cell_type": "code",
      "metadata": {
        "id": "wYZFl9kmKcxq",
        "colab_type": "code",
        "colab": {}
      },
      "source": [
        "model.compile(optimizer=tf.train.AdamOptimizer(), loss=\"sparse_categorical_crossentropy\", metrics=[\"accuracy\"])"
      ],
      "execution_count": 0,
      "outputs": []
    },
    {
      "cell_type": "code",
      "metadata": {
        "id": "eMpeOhzYKlHO",
        "colab_type": "code",
        "colab": {
          "base_uri": "https://localhost:8080/",
          "height": 442
        },
        "outputId": "7374ff65-24b9-461e-d657-725f0bb23dee"
      },
      "source": [
        "model.summary()"
      ],
      "execution_count": 32,
      "outputs": [
        {
          "output_type": "stream",
          "text": [
            "_________________________________________________________________\n",
            "Layer (type)                 Output Shape              Param #   \n",
            "=================================================================\n",
            "input_5 (InputLayer)         (None, 28, 28, 1)         0         \n",
            "_________________________________________________________________\n",
            "conv2d_9 (Conv2D)            (None, 26, 26, 20)        200       \n",
            "_________________________________________________________________\n",
            "max_pooling2d_9 (MaxPooling2 (None, 8, 8, 20)          0         \n",
            "_________________________________________________________________\n",
            "conv2d_10 (Conv2D)           (None, 6, 6, 50)          9050      \n",
            "_________________________________________________________________\n",
            "max_pooling2d_10 (MaxPooling (None, 2, 2, 50)          0         \n",
            "_________________________________________________________________\n",
            "batch_normalization_3 (Batch (None, 2, 2, 50)          200       \n",
            "_________________________________________________________________\n",
            "flatten_5 (Flatten)          (None, 200)               0         \n",
            "_________________________________________________________________\n",
            "dense_9 (Dense)              (None, 225)               45225     \n",
            "_________________________________________________________________\n",
            "dense_10 (Dense)             (None, 10)                2260      \n",
            "=================================================================\n",
            "Total params: 56,935\n",
            "Trainable params: 56,835\n",
            "Non-trainable params: 100\n",
            "_________________________________________________________________\n"
          ],
          "name": "stdout"
        }
      ]
    },
    {
      "cell_type": "code",
      "metadata": {
        "id": "3lA0NQe5LSal",
        "colab_type": "code",
        "colab": {
          "base_uri": "https://localhost:8080/",
          "height": 1754
        },
        "outputId": "9bdf1eac-e9c3-4a8b-9b1f-c78e09a0e99b"
      },
      "source": [
        "fit=model.fit(pixels,labels,epochs=50, batch_size=4096,validation_split=0.2)"
      ],
      "execution_count": 33,
      "outputs": [
        {
          "output_type": "stream",
          "text": [
            "Train on 47999 samples, validate on 12000 samples\n",
            "Epoch 1/50\n",
            "47999/47999 [==============================] - 3s 61us/step - loss: 1.3914 - acc: 0.5867 - val_loss: 0.6813 - val_acc: 0.8109\n",
            "Epoch 2/50\n",
            "47999/47999 [==============================] - 2s 38us/step - loss: 0.4205 - acc: 0.8925 - val_loss: 0.3337 - val_acc: 0.9019\n",
            "Epoch 3/50\n",
            "47999/47999 [==============================] - 2s 40us/step - loss: 0.2117 - acc: 0.9400 - val_loss: 0.1973 - val_acc: 0.9445\n",
            "Epoch 4/50\n",
            "47999/47999 [==============================] - 2s 42us/step - loss: 0.1439 - acc: 0.9580 - val_loss: 0.1457 - val_acc: 0.9581\n",
            "Epoch 5/50\n",
            "47999/47999 [==============================] - 2s 42us/step - loss: 0.1116 - acc: 0.9670 - val_loss: 0.1192 - val_acc: 0.9653\n",
            "Epoch 6/50\n",
            "47999/47999 [==============================] - 2s 42us/step - loss: 0.0927 - acc: 0.9725 - val_loss: 0.0935 - val_acc: 0.9741\n",
            "Epoch 7/50\n",
            "47999/47999 [==============================] - 2s 42us/step - loss: 0.0795 - acc: 0.9763 - val_loss: 0.0849 - val_acc: 0.9758\n",
            "Epoch 8/50\n",
            "47999/47999 [==============================] - 2s 42us/step - loss: 0.0697 - acc: 0.9792 - val_loss: 0.0796 - val_acc: 0.9780\n",
            "Epoch 9/50\n",
            "47999/47999 [==============================] - 2s 42us/step - loss: 0.0620 - acc: 0.9821 - val_loss: 0.0733 - val_acc: 0.9792\n",
            "Epoch 10/50\n",
            "47999/47999 [==============================] - 2s 42us/step - loss: 0.0554 - acc: 0.9841 - val_loss: 0.0763 - val_acc: 0.9779\n",
            "Epoch 11/50\n",
            "47999/47999 [==============================] - 2s 42us/step - loss: 0.0501 - acc: 0.9858 - val_loss: 0.0897 - val_acc: 0.9735\n",
            "Epoch 12/50\n",
            "47999/47999 [==============================] - 2s 42us/step - loss: 0.0458 - acc: 0.9869 - val_loss: 0.0862 - val_acc: 0.9743\n",
            "Epoch 13/50\n",
            "47999/47999 [==============================] - 2s 42us/step - loss: 0.0414 - acc: 0.9882 - val_loss: 0.0863 - val_acc: 0.9741\n",
            "Epoch 14/50\n",
            "47999/47999 [==============================] - 2s 42us/step - loss: 0.0379 - acc: 0.9893 - val_loss: 0.0819 - val_acc: 0.9753\n",
            "Epoch 15/50\n",
            "47999/47999 [==============================] - 2s 42us/step - loss: 0.0350 - acc: 0.9902 - val_loss: 0.0816 - val_acc: 0.9758\n",
            "Epoch 16/50\n",
            "47999/47999 [==============================] - 2s 42us/step - loss: 0.0325 - acc: 0.9909 - val_loss: 0.0693 - val_acc: 0.9792\n",
            "Epoch 17/50\n",
            "47999/47999 [==============================] - 2s 42us/step - loss: 0.0299 - acc: 0.9919 - val_loss: 0.0641 - val_acc: 0.9809\n",
            "Epoch 18/50\n",
            "47999/47999 [==============================] - 2s 42us/step - loss: 0.0276 - acc: 0.9926 - val_loss: 0.0705 - val_acc: 0.9783\n",
            "Epoch 19/50\n",
            "47999/47999 [==============================] - 2s 42us/step - loss: 0.0259 - acc: 0.9932 - val_loss: 0.0679 - val_acc: 0.9799\n",
            "Epoch 20/50\n",
            "47999/47999 [==============================] - 2s 42us/step - loss: 0.0240 - acc: 0.9940 - val_loss: 0.0564 - val_acc: 0.9821\n",
            "Epoch 21/50\n",
            "47999/47999 [==============================] - 2s 42us/step - loss: 0.0222 - acc: 0.9945 - val_loss: 0.0560 - val_acc: 0.9826\n",
            "Epoch 22/50\n",
            "47999/47999 [==============================] - 2s 42us/step - loss: 0.0206 - acc: 0.9952 - val_loss: 0.0533 - val_acc: 0.9838\n",
            "Epoch 23/50\n",
            "47999/47999 [==============================] - 2s 42us/step - loss: 0.0192 - acc: 0.9956 - val_loss: 0.0559 - val_acc: 0.9837\n",
            "Epoch 24/50\n",
            "47999/47999 [==============================] - 2s 43us/step - loss: 0.0180 - acc: 0.9960 - val_loss: 0.0514 - val_acc: 0.9843\n",
            "Epoch 25/50\n",
            "47999/47999 [==============================] - 2s 42us/step - loss: 0.0168 - acc: 0.9961 - val_loss: 0.0457 - val_acc: 0.9855\n",
            "Epoch 26/50\n",
            "47999/47999 [==============================] - 2s 42us/step - loss: 0.0156 - acc: 0.9966 - val_loss: 0.0491 - val_acc: 0.9844\n",
            "Epoch 27/50\n",
            "47999/47999 [==============================] - 2s 43us/step - loss: 0.0146 - acc: 0.9971 - val_loss: 0.0456 - val_acc: 0.9854\n",
            "Epoch 28/50\n",
            "47999/47999 [==============================] - 2s 42us/step - loss: 0.0136 - acc: 0.9973 - val_loss: 0.0469 - val_acc: 0.9848\n",
            "Epoch 29/50\n",
            "47999/47999 [==============================] - 2s 42us/step - loss: 0.0126 - acc: 0.9977 - val_loss: 0.0452 - val_acc: 0.9851\n",
            "Epoch 30/50\n",
            "47999/47999 [==============================] - 2s 42us/step - loss: 0.0119 - acc: 0.9979 - val_loss: 0.0448 - val_acc: 0.9856\n",
            "Epoch 31/50\n",
            "47999/47999 [==============================] - 2s 42us/step - loss: 0.0111 - acc: 0.9983 - val_loss: 0.0424 - val_acc: 0.9863\n",
            "Epoch 32/50\n",
            "47999/47999 [==============================] - 2s 42us/step - loss: 0.0104 - acc: 0.9983 - val_loss: 0.0464 - val_acc: 0.9846\n",
            "Epoch 33/50\n",
            "47999/47999 [==============================] - 2s 42us/step - loss: 0.0098 - acc: 0.9985 - val_loss: 0.0454 - val_acc: 0.9860\n",
            "Epoch 34/50\n",
            "47999/47999 [==============================] - 2s 42us/step - loss: 0.0091 - acc: 0.9989 - val_loss: 0.0403 - val_acc: 0.9872\n",
            "Epoch 35/50\n",
            "47999/47999 [==============================] - 2s 42us/step - loss: 0.0086 - acc: 0.9989 - val_loss: 0.0415 - val_acc: 0.9868\n",
            "Epoch 36/50\n",
            "47999/47999 [==============================] - 2s 42us/step - loss: 0.0079 - acc: 0.9990 - val_loss: 0.0394 - val_acc: 0.9873\n",
            "Epoch 37/50\n",
            "47999/47999 [==============================] - 2s 42us/step - loss: 0.0074 - acc: 0.9992 - val_loss: 0.0395 - val_acc: 0.9875\n",
            "Epoch 38/50\n",
            "47999/47999 [==============================] - 2s 42us/step - loss: 0.0069 - acc: 0.9992 - val_loss: 0.0387 - val_acc: 0.9878\n",
            "Epoch 39/50\n",
            "47999/47999 [==============================] - 2s 42us/step - loss: 0.0066 - acc: 0.9994 - val_loss: 0.0385 - val_acc: 0.9885\n",
            "Epoch 40/50\n",
            "47999/47999 [==============================] - 2s 42us/step - loss: 0.0062 - acc: 0.9994 - val_loss: 0.0384 - val_acc: 0.9879\n",
            "Epoch 41/50\n",
            "47999/47999 [==============================] - 2s 42us/step - loss: 0.0057 - acc: 0.9995 - val_loss: 0.0381 - val_acc: 0.9879\n",
            "Epoch 42/50\n",
            "47999/47999 [==============================] - 2s 42us/step - loss: 0.0054 - acc: 0.9996 - val_loss: 0.0377 - val_acc: 0.9884\n",
            "Epoch 43/50\n",
            "47999/47999 [==============================] - 2s 42us/step - loss: 0.0050 - acc: 0.9996 - val_loss: 0.0371 - val_acc: 0.9880\n",
            "Epoch 44/50\n",
            "47999/47999 [==============================] - 2s 42us/step - loss: 0.0047 - acc: 0.9998 - val_loss: 0.0377 - val_acc: 0.9883\n",
            "Epoch 45/50\n",
            "47999/47999 [==============================] - 2s 42us/step - loss: 0.0045 - acc: 0.9997 - val_loss: 0.0371 - val_acc: 0.9886\n",
            "Epoch 46/50\n",
            "47999/47999 [==============================] - 2s 42us/step - loss: 0.0042 - acc: 0.9999 - val_loss: 0.0375 - val_acc: 0.9885\n",
            "Epoch 47/50\n",
            "47999/47999 [==============================] - 2s 42us/step - loss: 0.0040 - acc: 0.9999 - val_loss: 0.0372 - val_acc: 0.9889\n",
            "Epoch 48/50\n",
            "47999/47999 [==============================] - 2s 42us/step - loss: 0.0038 - acc: 0.9999 - val_loss: 0.0371 - val_acc: 0.9886\n",
            "Epoch 49/50\n",
            "47999/47999 [==============================] - 2s 43us/step - loss: 0.0036 - acc: 0.9999 - val_loss: 0.0375 - val_acc: 0.9882\n",
            "Epoch 50/50\n",
            "47999/47999 [==============================] - 2s 43us/step - loss: 0.0033 - acc: 1.0000 - val_loss: 0.0366 - val_acc: 0.9888\n"
          ],
          "name": "stdout"
        }
      ]
    },
    {
      "cell_type": "code",
      "metadata": {
        "id": "juytlQFdLPAY",
        "colab_type": "code",
        "colab": {}
      },
      "source": [
        ""
      ],
      "execution_count": 0,
      "outputs": []
    }
  ]
}