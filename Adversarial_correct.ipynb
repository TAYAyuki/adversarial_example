{
  "nbformat": 4,
  "nbformat_minor": 0,
  "metadata": {
    "colab": {
      "name": "Untitled5.ipynb",
      "version": "0.3.2",
      "provenance": [],
      "include_colab_link": true
    },
    "kernelspec": {
      "name": "python3",
      "display_name": "Python 3"
    }
  },
  "cells": [
    {
      "cell_type": "markdown",
      "metadata": {
        "id": "view-in-github",
        "colab_type": "text"
      },
      "source": [
        "<a href=\"https://colab.research.google.com/github/TAYAyuki/adversarial_example/blob/master/Adversarial_correct.ipynb\" target=\"_parent\"><img src=\"https://colab.research.google.com/assets/colab-badge.svg\" alt=\"Open In Colab\"/></a>"
      ]
    },
    {
      "cell_type": "code",
      "metadata": {
        "id": "qsI4uYLTMNcX",
        "colab_type": "code",
        "colab": {}
      },
      "source": [
        "import numpy as np\n",
        "import pandas as pd #データ解析\n",
        "import keras\n",
        "import tensorflow as tf\n",
        "import matplotlib.pyplot as plt"
      ],
      "execution_count": 0,
      "outputs": []
    },
    {
      "cell_type": "code",
      "metadata": {
        "id": "C4RkShx3MRTh",
        "colab_type": "code",
        "colab": {
          "base_uri": "https://localhost:8080/",
          "height": 691
        },
        "outputId": "b23bbade-0ee4-4220-d0ea-357ccfbde965"
      },
      "source": [
        "def input_derivative(model, x, goal):\n",
        "  \"\"\" Calculate derivatives wrt the intputs \"\"\"\n",
        "  y_true = keras.layers.Input(shape=(10,))\n",
        "  ce = keras.losses.categorical_crossentropy(y_true, model.output)\n",
        "  grad_ce = tf.keras.backend.gradients(ce, model.inputs)\n",
        "    # Create a function to be able to run this computation graph\n",
        "  func = keras.backend.function(model.inputs + [y_true], grad_ce)\n",
        "  output = func([x, goal])\n",
        "  return output\n",
        "\n",
        "def adversarial(model, n, steps, eta):\n",
        "  \"\"\"\n",
        "  model: MNIST model\n",
        "  n:     integer. goal label (just an int, the function transfroms it into a one-hot vector)\n",
        "  steps: integer. number of steps for gradient descent\n",
        "  eata:  integer. step size for gradient descent\n",
        "  \"\"\"\n",
        "  # Set the goal output\n",
        "  goal = tf.keras.utils.to_categorical(n, 10)\n",
        "  # Create a random image to initialize gradient descent with\n",
        "  x = np.random.normal(.5, .3, (1,784))\n",
        "  # Gradient descent on the input\n",
        "  for i in range(steps):\n",
        "    # Calculate the derivative\n",
        "    d = input_derivative(model, x, goal)\n",
        "    # The Gradient update on x\n",
        "    x -= eta*d[0]\n",
        "    print(\"step:{} done...\".format(i+1))\n",
        "  return x\n",
        "\n",
        "def generate(n):\n",
        "  \"\"\"\n",
        "  n: integer\n",
        "  goal label ( not hot vector)\n",
        "  \"\"\"\n",
        "  a = adversarial(model, n, 100, 1)\n",
        "  x = np.round(model.predict(a), 2)\n",
        "  plt.imshow(a.reshape(28,28), cmap='gray')\n",
        "\n",
        "\n",
        "def sneaky_adversarial(model, n, x_target, steps, eta, lam=0.5):\n",
        "  \"\"\"\n",
        "  model:    model object\n",
        "  n:        integer\n",
        "       our toal label\n",
        "  x_target: numpy vector\n",
        "        our goal image for the adversarial example\n",
        "  steps:    integer\n",
        "        number of steps for gradient descent\n",
        "  lam:      float\n",
        "       lambda, our regularization parameter. Default is 0.5\n",
        "  \"\"\"\n",
        "\n",
        "  # Set the goal output\n",
        "  goal = tf.keras.utils.to_categorical(n, 10)\n",
        "   \n",
        "  # Create a random noise\n",
        "  x = np.random.normal(0.5, 0.3, (1,784))\n",
        " \n",
        "  # Gradient descent on the input\n",
        "  for i in range(steps):\n",
        "    # Calculate the derivative\n",
        "    d = input_derivative(model, x, goal)\n",
        "    # The grads update on x, with an added penalty to the cost function\n",
        "    x -= eta * (d[0] + lam * (x - x_target))\n",
        "  return x\n",
        "\n",
        "\n",
        "def sneaky_generate(n, m):\n",
        "  \"\"\"\n",
        "  n:    int 0-9, the target number to match\n",
        "  m:    index of example image to use (from the test set)\n",
        "  \"\"\"\n",
        "  # Find random instance of m in test set \n",
        "  idx = np.random.randint(0,10000)\n",
        "  while np.where(y_test[idx] == 1)[0][0] != m:\n",
        "    idx += 1\n",
        "  # Hardcode the parameters for the wrapper function\n",
        "  a = sneaky_adversarial(model, n, x_test[idx], 10, 1)\n",
        "  x = np.round(model.predict(a), 2)\n",
        "  print('\\nWhat we want our adversarial example to look like: ')\n",
        "  plt.imshow(x_test[idx].reshape((28,28)), cmap='gray')\n",
        "  plt.show()\n",
        "  print('\\n')\n",
        "  print('Adversarial Example: ')\n",
        "  plt.imshow(a.reshape(28,28), cmap='gray')\n",
        "  plt.show()\n",
        "  print('Network Prediction: ' + str(np.argmax(x)) + '\\n')\n",
        "  print('Network Output: \\n' + str(x) + '\\n')\n",
        "  return a\n",
        "\n",
        "(x_train, y_train), (x_test, y_test) = tf.keras.datasets.mnist.load_data()\n",
        "#x_train : (60000,28,28)  y_train : (60000,)\n",
        "#x_test : (10000,28,28)   y_test : (10000,)\n",
        "y_train = tf.keras.utils.to_categorical(y_train, 10) #正解ベクトルをone_hot_vectorにする\n",
        "y_test = tf.keras.utils.to_categorical(y_test, 10) \n",
        "x_train = x_train.reshape(60000,28*28) #x を二次元配列\n",
        "x_test = x_test.reshape(10000,28*28)\n",
        "#x_train : (60000,784)  x_test : (10000, 784)\n",
        "x_train = x_train/255. #x_train 正規化\n",
        "x_test = x_test/255. #x_test 正規化\n",
        "\n",
        "a = keras.layers.Input(shape=(28*28,))\n",
        "x = keras.layers.Dense(units=512, activation='relu', input_shape=(28*28,))(a)\n",
        "x = keras.layers.Dense(units=128, activation='relu')(x)\n",
        "x = keras.layers.Dense(units=64, activation='relu')(x)\n",
        "x = keras.layers.Dense(units=10, activation='softmax')(x)\n",
        "\n",
        "model = keras.models.Model(inputs=a, outputs=x)\n",
        "model.compile(optimizer=keras.optimizers.Adadelta(), loss='categorical_crossentropy', metrics=['accuracy'])\n",
        "#model.fit(x_train, y_train, batch_size=64, epochs=5, validation_data=(x_test, y_test))\n",
        "\n",
        "\"\"\"\n",
        "a = keras.layers.Input(shape=(28*28,))\n",
        "x = keras.layers.Conv2D(20, (3, 3), padding=\"valid\", activation=tf.nn.relu,)(a)\n",
        "x = keras.layers.MaxPooling2D(pool_size=(3,3))(x)\n",
        "x = keras.layers.Conv2D(50, (3, 3), padding=\"valid\", activation=tf.nn.relu,)(x)\n",
        "x = keras.layers.MaxPooling2D(pool_size=(3,3))(x)\n",
        "x = keras.layers.BatchNormalization()(x)\n",
        "x = keras.layers.Flatten()(x)\n",
        "x = keras.layers.Dense(225, activation=tf.nn.relu)(x)\n",
        "x = keras.layers.Dense(10, activation=\"softmax\")(x)\n",
        "\"\"\"\n",
        "\n",
        "# sneaky_generate(target label, target digit)\n",
        "adv_ex = sneaky_generate(8, 2)"
      ],
      "execution_count": 23,
      "outputs": [
        {
          "output_type": "stream",
          "text": [
            "\n",
            "What we want our adversarial example to look like: \n"
          ],
          "name": "stdout"
        },
        {
          "output_type": "display_data",
          "data": {
            "image/png": "[encoded data removed]",
            "text/plain": [
              "<Figure size 432x288 with 1 Axes>"
            ]
          },
          "metadata": {
            "tags": []
          }
        },
        {
          "output_type": "stream",
          "text": [
            "\n",
            "\n",
            "Adversarial Example: \n"
          ],
          "name": "stdout"
        },
        {
          "output_type": "display_data",
          "data": {
            "image/png": "[encoded data removed]",
            "text/plain": [
              "<Figure size 432x288 with 1 Axes>"
            ]
          },
          "metadata": {
            "tags": []
          }
        },
        {
          "output_type": "stream",
          "text": [
            "Network Prediction: 0\n",
            "\n",
            "Network Output: \n",
            "[[0.12 0.1  0.1  0.12 0.11 0.09 0.08 0.1  0.1  0.08]]\n",
            "\n"
          ],
          "name": "stdout"
        }
      ]
    },
    {
      "cell_type": "code",
      "metadata": {
        "id": "oL8w8b8qMSsM",
        "colab_type": "code",
        "colab": {}
      },
      "source": [
        ""
      ],
      "execution_count": 0,
      "outputs": []
    }
  ]
}